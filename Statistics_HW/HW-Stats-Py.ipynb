{
 "cells": [
  {
   "cell_type": "code",
   "execution_count": 153,
   "id": "6cd058dd",
   "metadata": {},
   "outputs": [],
   "source": [
    "#Imports\n",
    "\n",
    "import statsmodels.api as sm\n",
    "import statsmodels.formula.api as smf\n",
    "import numpy as np\n",
    "import matplotlib.pyplot as plt\n",
    "import seaborn as sns\n",
    "import pandas as pd\n",
    "from pandas import Series, DataFrame\n",
    "#import datetime\n",
    "from scipy import stats\n",
    "from statsmodels.stats.outliers_influence import variance_inflation_factor\n",
    "from statsmodels.tools.tools import add_constant\n",
    "from lifelines import KaplanMeierFitter, CoxPHFitter\n",
    "from lifelines.statistics import pairwise_logrank_test"
   ]
  },
  {
   "cell_type": "code",
   "execution_count": 154,
   "id": "98ae7e04",
   "metadata": {},
   "outputs": [],
   "source": [
    "#defining VIF function\n",
    "#from DS14\n",
    "def vif(df):\n",
    "    '''\n",
    "    VIF = variance inflation function\n",
    "    '''\n",
    "    # initialize dictionaries\n",
    "    vif_dict = {}\n",
    "    # X must be a dataframe and contain the independent variables only\n",
    "    for var in df.columns:\n",
    "        indep = [i for i in df.columns if i != var]\n",
    "        X, y = df[indep], df[var]\n",
    "\n",
    "        # extract r-squared from the fit\n",
    "        #rsqr = LinearRegression().fit(X, y).score(X, y)\n",
    "        model = sm.OLS(y,X).fit()\n",
    "        rsqr = model.rsquared\n",
    "        # calculate VIF\n",
    "        vif = 1/(1 - rsqr)\n",
    "        vif_dict[var] = vif\n",
    "\n",
    "    # return VIF DataFrame\n",
    "    df_vif = pd.DataFrame({'VIF': vif_dict})\n",
    "\n",
    "    return df_vif\n",
    "\n",
    "#from towardsdatascience.com, Mr.Nair\n",
    "# compute the vif for all given features\n",
    "def compute_vif(considered_features):\n",
    "    \n",
    "    X = df[considered_features]\n",
    "    # the calculation of variance inflation requires a constant\n",
    "    X['intercept'] = 1\n",
    "    \n",
    "    # create dataframe to store vif values\n",
    "    vif = pd.DataFrame()\n",
    "    vif[\"Variable\"] = X.columns\n",
    "    vif[\"VIF\"] = [variance_inflation_factor(X.values, i) for i in range(X.shape[1])]\n",
    "    vif = vif[vif['Variable']!='intercept']\n",
    "    return vif"
   ]
  },
  {
   "cell_type": "code",
   "execution_count": 155,
   "id": "958bb502",
   "metadata": {},
   "outputs": [],
   "source": [
    "#prep dataset\n",
    "df = pd.read_csv('C:/Users/sofnl/Documents/BIU_DS/BIU_DS_Course/Stats/heart_failure_clinical_records_dataset.csv')\n",
    "df\n",
    "\n",
    "#convert nominal binary variables into categorical\n",
    "for col in ['anaemia', 'diabetes', 'high_blood_pressure', 'sex', 'smoking', 'DEATH_EVENT']:\n",
    "    df[col] = df[col].astype('category')\n",
    "#df.dtypes"
   ]
  },
  {
   "cell_type": "code",
   "execution_count": 156,
   "id": "db962f2e",
   "metadata": {},
   "outputs": [
    {
     "name": "stdout",
     "output_type": "stream",
     "text": [
      "                                 OLS Regression Results                                \n",
      "=======================================================================================\n",
      "Dep. Variable:                   time   R-squared (uncentered):                   0.770\n",
      "Model:                            OLS   Adj. R-squared (uncentered):              0.761\n",
      "Method:                 Least Squares   F-statistic:                              87.75\n",
      "Date:                Tue, 13 Sep 2022   Prob (F-statistic):                    3.64e-85\n",
      "Time:                        09:23:43   Log-Likelihood:                         -1705.7\n",
      "No. Observations:                 299   AIC:                                      3433.\n",
      "Df Residuals:                     288   BIC:                                      3474.\n",
      "Df Model:                          11                                                  \n",
      "Covariance Type:            nonrobust                                                  \n",
      "============================================================================================\n",
      "                               coef    std err          t      P>|t|      [0.025      0.975]\n",
      "--------------------------------------------------------------------------------------------\n",
      "age                         -1.1585      0.366     -3.162      0.002      -1.880      -0.437\n",
      "anaemia                    -21.2362      8.921     -2.380      0.018     -38.795      -3.678\n",
      "creatinine_phosphokinase    -0.0054      0.005     -1.187      0.236      -0.014       0.004\n",
      "diabetes                     1.5319      8.857      0.173      0.863     -15.901      18.965\n",
      "ejection_fraction            0.2643      0.373      0.709      0.479      -0.470       0.998\n",
      "high_blood_pressure        -30.1910      9.097     -3.319      0.001     -48.096     -12.286\n",
      "platelets                 -3.52e-06   4.48e-05     -0.079      0.937   -9.17e-05    8.47e-05\n",
      "serum_creatinine            -7.3251      4.195     -1.746      0.082     -15.582       0.932\n",
      "serum_sodium                 1.6568      0.220      7.523      0.000       1.223       2.090\n",
      "sex                         -0.1406     10.355     -0.014      0.989     -20.521      20.240\n",
      "smoking                     -7.0138     10.387     -0.675      0.500     -27.458      13.430\n",
      "==============================================================================\n",
      "Omnibus:                      112.653   Durbin-Watson:                   0.231\n",
      "Prob(Omnibus):                  0.000   Jarque-Bera (JB):               16.287\n",
      "Skew:                           0.049   Prob(JB):                     0.000291\n",
      "Kurtosis:                       1.861   Cond. No.                     8.14e+05\n",
      "==============================================================================\n",
      "\n",
      "Notes:\n",
      "[1] R² is computed without centering (uncentered) since the model does not contain a constant.\n",
      "[2] Standard Errors assume that the covariance matrix of the errors is correctly specified.\n",
      "[3] The condition number is large, 8.14e+05. This might indicate that there are\n",
      "strong multicollinearity or other numerical problems.\n"
     ]
    }
   ],
   "source": [
    "#1.Create a linear regression for the “time” variable. Exclude the variable “DEATH_EVENT” from the analysis.\n",
    "\n",
    "Y=df['time']\n",
    "X=df[df.columns[:-2]]\n",
    "X\n",
    "\n",
    "model = sm.OLS(Y,X)\n",
    "mod1 = model.fit()\n",
    "print(mod1.summary())\n",
    "\n",
    "#The condition number is large, 8.14e+05. This might indicate that there are\n",
    "#strong multicollinearity or other numerical problems."
   ]
  },
  {
   "cell_type": "code",
   "execution_count": 157,
   "id": "c5753f6d",
   "metadata": {},
   "outputs": [
    {
     "data": {
      "text/html": [
       "<div>\n",
       "<style scoped>\n",
       "    .dataframe tbody tr th:only-of-type {\n",
       "        vertical-align: middle;\n",
       "    }\n",
       "\n",
       "    .dataframe tbody tr th {\n",
       "        vertical-align: top;\n",
       "    }\n",
       "\n",
       "    .dataframe thead th {\n",
       "        text-align: right;\n",
       "    }\n",
       "</style>\n",
       "<table border=\"1\" class=\"dataframe\">\n",
       "  <thead>\n",
       "    <tr style=\"text-align: right;\">\n",
       "      <th></th>\n",
       "      <th>age</th>\n",
       "      <th>creatinine_phosphokinase</th>\n",
       "      <th>ejection_fraction</th>\n",
       "      <th>platelets</th>\n",
       "      <th>serum_creatinine</th>\n",
       "      <th>serum_sodium</th>\n",
       "      <th>time</th>\n",
       "    </tr>\n",
       "  </thead>\n",
       "  <tbody>\n",
       "    <tr>\n",
       "      <th>age</th>\n",
       "      <td>1.000000</td>\n",
       "      <td>-0.093078</td>\n",
       "      <td>0.074047</td>\n",
       "      <td>-0.052091</td>\n",
       "      <td>0.270561</td>\n",
       "      <td>-0.101716</td>\n",
       "      <td>-0.197524</td>\n",
       "    </tr>\n",
       "    <tr>\n",
       "      <th>creatinine_phosphokinase</th>\n",
       "      <td>-0.093078</td>\n",
       "      <td>1.000000</td>\n",
       "      <td>-0.067839</td>\n",
       "      <td>0.060033</td>\n",
       "      <td>-0.049936</td>\n",
       "      <td>0.016886</td>\n",
       "      <td>0.125823</td>\n",
       "    </tr>\n",
       "    <tr>\n",
       "      <th>ejection_fraction</th>\n",
       "      <td>0.074047</td>\n",
       "      <td>-0.067839</td>\n",
       "      <td>1.000000</td>\n",
       "      <td>0.053696</td>\n",
       "      <td>-0.177986</td>\n",
       "      <td>0.161695</td>\n",
       "      <td>0.070533</td>\n",
       "    </tr>\n",
       "    <tr>\n",
       "      <th>platelets</th>\n",
       "      <td>-0.052091</td>\n",
       "      <td>0.060033</td>\n",
       "      <td>0.053696</td>\n",
       "      <td>1.000000</td>\n",
       "      <td>-0.051028</td>\n",
       "      <td>0.049453</td>\n",
       "      <td>-0.006927</td>\n",
       "    </tr>\n",
       "    <tr>\n",
       "      <th>serum_creatinine</th>\n",
       "      <td>0.270561</td>\n",
       "      <td>-0.049936</td>\n",
       "      <td>-0.177986</td>\n",
       "      <td>-0.051028</td>\n",
       "      <td>1.000000</td>\n",
       "      <td>-0.300413</td>\n",
       "      <td>-0.160990</td>\n",
       "    </tr>\n",
       "    <tr>\n",
       "      <th>serum_sodium</th>\n",
       "      <td>-0.101716</td>\n",
       "      <td>0.016886</td>\n",
       "      <td>0.161695</td>\n",
       "      <td>0.049453</td>\n",
       "      <td>-0.300413</td>\n",
       "      <td>1.000000</td>\n",
       "      <td>0.086393</td>\n",
       "    </tr>\n",
       "    <tr>\n",
       "      <th>time</th>\n",
       "      <td>-0.197524</td>\n",
       "      <td>0.125823</td>\n",
       "      <td>0.070533</td>\n",
       "      <td>-0.006927</td>\n",
       "      <td>-0.160990</td>\n",
       "      <td>0.086393</td>\n",
       "      <td>1.000000</td>\n",
       "    </tr>\n",
       "  </tbody>\n",
       "</table>\n",
       "</div>"
      ],
      "text/plain": [
       "                               age  creatinine_phosphokinase  \\\n",
       "age                       1.000000                 -0.093078   \n",
       "creatinine_phosphokinase -0.093078                  1.000000   \n",
       "ejection_fraction         0.074047                 -0.067839   \n",
       "platelets                -0.052091                  0.060033   \n",
       "serum_creatinine          0.270561                 -0.049936   \n",
       "serum_sodium             -0.101716                  0.016886   \n",
       "time                     -0.197524                  0.125823   \n",
       "\n",
       "                          ejection_fraction  platelets  serum_creatinine  \\\n",
       "age                                0.074047  -0.052091          0.270561   \n",
       "creatinine_phosphokinase          -0.067839   0.060033         -0.049936   \n",
       "ejection_fraction                  1.000000   0.053696         -0.177986   \n",
       "platelets                          0.053696   1.000000         -0.051028   \n",
       "serum_creatinine                  -0.177986  -0.051028          1.000000   \n",
       "serum_sodium                       0.161695   0.049453         -0.300413   \n",
       "time                               0.070533  -0.006927         -0.160990   \n",
       "\n",
       "                          serum_sodium      time  \n",
       "age                          -0.101716 -0.197524  \n",
       "creatinine_phosphokinase      0.016886  0.125823  \n",
       "ejection_fraction             0.161695  0.070533  \n",
       "platelets                     0.049453 -0.006927  \n",
       "serum_creatinine             -0.300413 -0.160990  \n",
       "serum_sodium                  1.000000  0.086393  \n",
       "time                          0.086393  1.000000  "
      ]
     },
     "execution_count": 157,
     "metadata": {},
     "output_type": "execute_result"
    }
   ],
   "source": [
    "#checking for correlation between variables\n",
    "#using spearman for non-normal distribution\n",
    "df.corr(method='spearman')\n",
    "\n",
    "#looks like there is no significant correlation between numeric X vars (all the coefficients are between +/-0.3)"
   ]
  },
  {
   "cell_type": "code",
   "execution_count": 106,
   "id": "dd3ed321",
   "metadata": {},
   "outputs": [
    {
     "data": {
      "image/png": "[encoded data removed]",
      "text/plain": [
       "<Figure size 720x504 with 2 Axes>"
      ]
     },
     "metadata": {
      "needs_background": "light"
     },
     "output_type": "display_data"
    }
   ],
   "source": [
    "#visualizing correlation via heatmap\n",
    "\n",
    "# set figure size\n",
    "plt.figure(figsize=(10,7))\n",
    "\n",
    "# Generate a mask to onlyshow the bottom triangle\n",
    "mask = np.triu(np.ones_like(df.corr(method='spearman'), dtype=bool))\n",
    "\n",
    "# generate heatmap\n",
    "sns.heatmap(df.corr(method='spearman'), annot=True, mask=mask, vmin=-1, vmax=1)\n",
    "plt.title('Correlation Coefficient Of Predictors')\n",
    "plt.show()"
   ]
  },
  {
   "cell_type": "code",
   "execution_count": 158,
   "id": "842f3c9f",
   "metadata": {},
   "outputs": [
    {
     "name": "stdout",
     "output_type": "stream",
     "text": [
      "                                VIF\n",
      "DEATH_EVENT                2.476163\n",
      "age                       30.400689\n",
      "anaemia                    1.910127\n",
      "creatinine_phosphokinase   1.458680\n",
      "diabetes                   1.793319\n",
      "ejection_fraction         13.355059\n",
      "high_blood_pressure        1.646768\n",
      "platelets                  8.644291\n",
      "serum_creatinine           3.132862\n",
      "serum_sodium              61.551253\n",
      "sex                        3.810980\n",
      "smoking                    1.892839\n",
      "time                       5.657601\n"
     ]
    }
   ],
   "source": [
    "#Recreate the linear regression excluding problematic variables if they exist.\n",
    "#Checking vif\n",
    "print(vif(df))\n",
    "\n",
    "#Inflated Betas for age, ejection_fraction, serum_sodium; I think there is an implementation bug"
   ]
  },
  {
   "cell_type": "code",
   "execution_count": 162,
   "id": "fb9b40c5",
   "metadata": {},
   "outputs": [
    {
     "name": "stdout",
     "output_type": "stream",
     "text": [
      "                    Variable       VIF\n",
      "0                        age  1.068365\n",
      "1                    anaemia  1.066476\n",
      "2   creatinine_phosphokinase  1.060983\n",
      "3                   diabetes  1.064280\n",
      "4          ejection_fraction  1.065725\n",
      "5        high_blood_pressure  1.029255\n",
      "6                  platelets  1.045777\n",
      "7           serum_creatinine  1.069243\n",
      "8               serum_sodium  1.096363\n",
      "9                        sex  1.337709\n",
      "10                   smoking  1.283023\n"
     ]
    },
    {
     "name": "stderr",
     "output_type": "stream",
     "text": [
      "C:\\Users\\sofnl\\AppData\\Local\\Temp\\ipykernel_10608\\3535737232.py:33: SettingWithCopyWarning: \n",
      "A value is trying to be set on a copy of a slice from a DataFrame.\n",
      "Try using .loc[row_indexer,col_indexer] = value instead\n",
      "\n",
      "See the caveats in the documentation: https://pandas.pydata.org/pandas-docs/stable/user_guide/indexing.html#returning-a-view-versus-a-copy\n",
      "  X['intercept'] = 1\n"
     ]
    }
   ],
   "source": [
    "#Checking vif using Mr.Naif func\n",
    "print(compute_vif(df.columns[:-2]))\n",
    "\n",
    "#Got the same results in R; sticking with these results\n",
    "\n",
    "#all the betas are between 1 and 2; no inflation due to correlations; \n",
    "#no need to remove variables "
   ]
  },
  {
   "cell_type": "code",
   "execution_count": 18,
   "id": "4e560307",
   "metadata": {},
   "outputs": [
    {
     "data": {
      "text/plain": [
       "age                         0.313970\n",
       "anaemia                     0.000000\n",
       "creatinine_phosphokinase    0.994617\n",
       "diabetes                    4.627189\n",
       "ejection_fraction           1.302486\n",
       "high_blood_pressure         0.000000\n",
       "platelets                   0.999996\n",
       "serum_creatinine            0.000659\n",
       "serum_sodium                5.242436\n",
       "sex                         0.868810\n",
       "smoking                     0.000899\n",
       "dtype: float64"
      ]
     },
     "execution_count": 18,
     "metadata": {},
     "output_type": "execute_result"
    }
   ],
   "source": [
    "#Relative Risk assesment: \n",
    "#params are coefficients\n",
    "RR=np.exp(mod1.params)\n",
    "round(RR, 7)"
   ]
  },
  {
   "cell_type": "markdown",
   "id": "42db7e94",
   "metadata": {},
   "source": [
    "The increased RR is observed for diabetes, ejection_fraction, serum_sodium\n",
    "Extremely low RR is observed for anaemia, high_blood_pressure, serum_creatinine, and smoking;"
   ]
  },
  {
   "cell_type": "code",
   "execution_count": 163,
   "id": "72a315a5",
   "metadata": {},
   "outputs": [
    {
     "name": "stdout",
     "output_type": "stream",
     "text": [
      "                          Generalized Linear Model Regression Results                           \n",
      "================================================================================================\n",
      "Dep. Variable:     ['DEATH_EVENT[0]', 'DEATH_EVENT[1]']   No. Observations:                  299\n",
      "Model:                                              GLM   Df Residuals:                      287\n",
      "Model Family:                                  Binomial   Df Model:                           11\n",
      "Link Function:                                    Logit   Scale:                          1.0000\n",
      "Method:                                            IRLS   Log-Likelihood:                -147.14\n",
      "Date:                                  Tue, 13 Sep 2022   Deviance:                       294.28\n",
      "Time:                                          09:34:49   Pearson chi2:                     319.\n",
      "No. Iterations:                                       5   Pseudo R-squ. (CS):             0.2375\n",
      "Covariance Type:                              nonrobust                                         \n",
      "============================================================================================\n",
      "                               coef    std err          z      P>|z|      [0.025      0.975]\n",
      "--------------------------------------------------------------------------------------------\n",
      "Intercept                   -4.9643      4.601     -1.079      0.281     -13.982       4.054\n",
      "anaemia[T.1]                -0.4179      0.301     -1.389      0.165      -1.008       0.172\n",
      "diabetes[T.1]               -0.1514      0.297     -0.509      0.611      -0.734       0.431\n",
      "high_blood_pressure[T.1]    -0.4189      0.306     -1.369      0.171      -1.019       0.181\n",
      "sex[T.1]                     0.3990      0.351      1.137      0.255      -0.289       1.087\n",
      "smoking[T.1]                -0.1356      0.349     -0.389      0.697      -0.819       0.548\n",
      "age                         -0.0557      0.013     -4.241      0.000      -0.081      -0.030\n",
      "creatinine_phosphokinase    -0.0003      0.000     -2.034      0.042      -0.001   -1.06e-05\n",
      "ejection_fraction            0.0703      0.015      4.731      0.000       0.041       0.099\n",
      "platelets                 7.094e-07   1.62e-06      0.439      0.661   -2.46e-06    3.88e-06\n",
      "serum_creatinine            -0.6619      0.173     -3.817      0.000      -1.002      -0.322\n",
      "serum_sodium                 0.0567      0.033      1.698      0.090      -0.009       0.122\n",
      "============================================================================================\n"
     ]
    }
   ],
   "source": [
    "#2.   Create a logistic regression model for the “DEATH_EVENT” variable. Exclude the “time” variable from the analysis\n",
    "formula = '''DEATH_EVENT ~ age + anaemia + creatinine_phosphokinase + diabetes + \n",
    "              ejection_fraction + high_blood_pressure + platelets + serum_creatinine + \n",
    "              serum_sodium + sex + smoking'''\n",
    "\n",
    "model = smf.glm(formula = formula, data=df, family=sm.families.Binomial())\n",
    "mod2 = model.fit()\n",
    "print(mod2.summary())"
   ]
  },
  {
   "cell_type": "code",
   "execution_count": 164,
   "id": "e8938e99",
   "metadata": {},
   "outputs": [
    {
     "name": "stdout",
     "output_type": "stream",
     "text": [
      "                    Variable       VIF\n",
      "0                        age  1.068365\n",
      "1                    anaemia  1.066476\n",
      "2   creatinine_phosphokinase  1.060983\n",
      "3                   diabetes  1.064280\n",
      "4          ejection_fraction  1.065725\n",
      "5        high_blood_pressure  1.029255\n",
      "6                  platelets  1.045777\n",
      "7           serum_creatinine  1.069243\n",
      "8               serum_sodium  1.096363\n",
      "9                        sex  1.337709\n",
      "10                   smoking  1.283023\n"
     ]
    },
    {
     "name": "stderr",
     "output_type": "stream",
     "text": [
      "C:\\Users\\sofnl\\AppData\\Local\\Temp\\ipykernel_10608\\3535737232.py:33: SettingWithCopyWarning: \n",
      "A value is trying to be set on a copy of a slice from a DataFrame.\n",
      "Try using .loc[row_indexer,col_indexer] = value instead\n",
      "\n",
      "See the caveats in the documentation: https://pandas.pydata.org/pandas-docs/stable/user_guide/indexing.html#returning-a-view-versus-a-copy\n",
      "  X['intercept'] = 1\n"
     ]
    }
   ],
   "source": [
    "#checking betas using vif \n",
    "print(compute_vif(df.columns[:-2]))"
   ]
  },
  {
   "cell_type": "markdown",
   "id": "ffc13d5e",
   "metadata": {},
   "source": [
    "all the betas are between 1 and 2; no inflation due to correlations; \n",
    "no need to remove variables \n",
    "\n",
    "Although, the values in R are different! In R, the values are obtained using a proper regression type, \n",
    "while here I have no way to pass the model, and internelly, vif built-in function seems to always use params from the lm model"
   ]
  },
  {
   "cell_type": "code",
   "execution_count": 165,
   "id": "551aeae4",
   "metadata": {
    "scrolled": true
   },
   "outputs": [
    {
     "data": {
      "text/plain": [
       "Intercept                   0.006983\n",
       "anaemia[T.1]                0.658408\n",
       "diabetes[T.1]               0.859497\n",
       "high_blood_pressure[T.1]    0.657745\n",
       "sex[T.1]                    1.490355\n",
       "smoking[T.1]                0.873201\n",
       "age                         0.945831\n",
       "creatinine_phosphokinase    0.999710\n",
       "ejection_fraction           1.072854\n",
       "platelets                   1.000001\n",
       "serum_creatinine            0.515891\n",
       "serum_sodium                1.058303\n",
       "dtype: float64"
      ]
     },
     "execution_count": 165,
     "metadata": {},
     "output_type": "execute_result"
    }
   ],
   "source": [
    "#Odds Ratio calculation \n",
    "OR=np.exp(mod2.params)\n",
    "OR\n",
    "\n",
    "#Infering: anaemia, high blood pressure, gender and serum creatinine project the most death event risk (farthest from 1)"
   ]
  },
  {
   "cell_type": "code",
   "execution_count": 166,
   "id": "db792186",
   "metadata": {},
   "outputs": [
    {
     "data": {
      "text/html": [
       "<div>\n",
       "<style scoped>\n",
       "    .dataframe tbody tr th:only-of-type {\n",
       "        vertical-align: middle;\n",
       "    }\n",
       "\n",
       "    .dataframe tbody tr th {\n",
       "        vertical-align: top;\n",
       "    }\n",
       "\n",
       "    .dataframe thead th {\n",
       "        text-align: right;\n",
       "    }\n",
       "</style>\n",
       "<table border=\"1\" class=\"dataframe\">\n",
       "  <thead>\n",
       "    <tr style=\"text-align: right;\">\n",
       "      <th></th>\n",
       "      <th>Kaplan Meier Estimate</th>\n",
       "    </tr>\n",
       "    <tr>\n",
       "      <th>timeline</th>\n",
       "      <th></th>\n",
       "    </tr>\n",
       "  </thead>\n",
       "  <tbody>\n",
       "    <tr>\n",
       "      <th>0.0</th>\n",
       "      <td>1.000000</td>\n",
       "    </tr>\n",
       "    <tr>\n",
       "      <th>4.0</th>\n",
       "      <td>0.996656</td>\n",
       "    </tr>\n",
       "    <tr>\n",
       "      <th>6.0</th>\n",
       "      <td>0.993311</td>\n",
       "    </tr>\n",
       "    <tr>\n",
       "      <th>7.0</th>\n",
       "      <td>0.986622</td>\n",
       "    </tr>\n",
       "    <tr>\n",
       "      <th>8.0</th>\n",
       "      <td>0.979933</td>\n",
       "    </tr>\n",
       "    <tr>\n",
       "      <th>...</th>\n",
       "      <td>...</td>\n",
       "    </tr>\n",
       "    <tr>\n",
       "      <th>270.0</th>\n",
       "      <td>0.575705</td>\n",
       "    </tr>\n",
       "    <tr>\n",
       "      <th>271.0</th>\n",
       "      <td>0.575705</td>\n",
       "    </tr>\n",
       "    <tr>\n",
       "      <th>278.0</th>\n",
       "      <td>0.575705</td>\n",
       "    </tr>\n",
       "    <tr>\n",
       "      <th>280.0</th>\n",
       "      <td>0.575705</td>\n",
       "    </tr>\n",
       "    <tr>\n",
       "      <th>285.0</th>\n",
       "      <td>0.575705</td>\n",
       "    </tr>\n",
       "  </tbody>\n",
       "</table>\n",
       "<p>149 rows × 1 columns</p>\n",
       "</div>"
      ],
      "text/plain": [
       "          Kaplan Meier Estimate\n",
       "timeline                       \n",
       "0.0                    1.000000\n",
       "4.0                    0.996656\n",
       "6.0                    0.993311\n",
       "7.0                    0.986622\n",
       "8.0                    0.979933\n",
       "...                         ...\n",
       "270.0                  0.575705\n",
       "271.0                  0.575705\n",
       "278.0                  0.575705\n",
       "280.0                  0.575705\n",
       "285.0                  0.575705\n",
       "\n",
       "[149 rows x 1 columns]"
      ]
     },
     "execution_count": 166,
     "metadata": {},
     "output_type": "execute_result"
    }
   ],
   "source": [
    "#3. Calculate the Kaplan-Meyer curve for the survival time, using the “time” and “DEATH_EVENT” variables.\n",
    "\n",
    "kmf = KaplanMeierFitter() \n",
    "## Fit the data into the model\n",
    "kmf.fit(df['time'], df['DEATH_EVENT'], label='Kaplan Meier Estimate')\n",
    "kmf.survival_function_"
   ]
  },
  {
   "cell_type": "code",
   "execution_count": 167,
   "id": "e97b287f",
   "metadata": {},
   "outputs": [
    {
     "data": {
      "text/plain": [
       "<AxesSubplot:xlabel='timeline'>"
      ]
     },
     "execution_count": 167,
     "metadata": {},
     "output_type": "execute_result"
    },
    {
     "data": {
      "image/png": "[encoded data removed]",
      "text/plain": [
       "<Figure size 432x288 with 1 Axes>"
      ]
     },
     "metadata": {
      "needs_background": "light"
     },
     "output_type": "display_data"
    }
   ],
   "source": [
    "## Create an estimate\n",
    "kmf.plot(ci_show=True)"
   ]
  },
  {
   "cell_type": "code",
   "execution_count": 168,
   "id": "3912460a",
   "metadata": {},
   "outputs": [
    {
     "data": {
      "text/plain": [
       "<AxesSubplot:xlabel='timeline'>"
      ]
     },
     "execution_count": 168,
     "metadata": {},
     "output_type": "execute_result"
    },
    {
     "data": {
      "image/png": "[encoded data removed]",
      "text/plain": [
       "<Figure size 432x288 with 1 Axes>"
      ]
     },
     "metadata": {
      "needs_background": "light"
     },
     "output_type": "display_data"
    }
   ],
   "source": [
    "#Comparing survival times between males and females\n",
    "#dividing data into groups\n",
    "male = df.loc[df[\"sex\"] ==1, (\"time\", \"DEATH_EVENT\")]\n",
    "female = df.loc[df[\"sex\"] ==0, (\"time\", \"DEATH_EVENT\")]\n",
    "\n",
    "#creating kmf for each group\n",
    "kmf_m = KaplanMeierFitter() \n",
    "kmf_f = KaplanMeierFitter() \n",
    "\n",
    "kmf_f.fit(durations=female[\"time\"], event_observed=female[\"DEATH_EVENT\"], label=\"Female\")\n",
    "kmf_m.fit(durations=male[\"time\"], event_observed=male[\"DEATH_EVENT\"], label=\"Male\")\n",
    "\n",
    "#visualizing surviving difference between genders\n",
    "kmf_f.plot()\n",
    "kmf_m.plot()"
   ]
  },
  {
   "cell_type": "markdown",
   "id": "b8eca6a3",
   "metadata": {},
   "source": [
    "From the above graphs we can see that the survival curves of different genders are almost identical and seem statistically equivalent. Thus, performing the log-rank test."
   ]
  },
  {
   "cell_type": "code",
   "execution_count": 169,
   "id": "c7618d03",
   "metadata": {},
   "outputs": [
    {
     "name": "stdout",
     "output_type": "stream",
     "text": [
      "     test_statistic         p  -log2(p)\n",
      "0 1        0.003971  0.949752  0.074377\n"
     ]
    }
   ],
   "source": [
    "lr=pairwise_logrank_test(df['time'], df['sex'], df['DEATH_EVENT'])\n",
    "print(lr.summary)"
   ]
  },
  {
   "cell_type": "markdown",
   "id": "4a56cc8a",
   "metadata": {},
   "source": [
    "P value is very high, thus the two genders are indeed statistically equivalent.\n",
    "Gender doesn't affect survival"
   ]
  },
  {
   "cell_type": "code",
   "execution_count": 170,
   "id": "bcb47dd9",
   "metadata": {},
   "outputs": [
    {
     "data": {
      "text/plain": [
       "<AxesSubplot:xlabel='timeline'>"
      ]
     },
     "execution_count": 170,
     "metadata": {},
     "output_type": "execute_result"
    },
    {
     "data": {
      "image/png": "[encoded data removed]",
      "text/plain": [
       "<Figure size 432x288 with 1 Axes>"
      ]
     },
     "metadata": {
      "needs_background": "light"
     },
     "output_type": "display_data"
    }
   ],
   "source": [
    "#Check if there is any difference between smokers and non-smokers\n",
    "#dividing data into groups\n",
    "smokers = df.loc[df[\"smoking\"] ==1, (\"time\", \"DEATH_EVENT\")]\n",
    "nonsmokers = df.loc[df[\"smoking\"] ==0, (\"time\", \"DEATH_EVENT\")]\n",
    "\n",
    "#creating kmf for each group\n",
    "kmf_sm = KaplanMeierFitter() \n",
    "kmf_nsm = KaplanMeierFitter() \n",
    "\n",
    "kmf_sm.fit(durations=smokers[\"time\"], event_observed=smokers[\"DEATH_EVENT\"], label=\"smokers\")\n",
    "kmf_nsm.fit(durations=nonsmokers[\"time\"], event_observed=nonsmokers[\"DEATH_EVENT\"], label=\"nonsmokers\")\n",
    "\n",
    "#visualizing surviving difference between genders\n",
    "kmf_sm.plot()\n",
    "kmf_nsm.plot()"
   ]
  },
  {
   "cell_type": "code",
   "execution_count": 171,
   "id": "a42a8c05",
   "metadata": {},
   "outputs": [
    {
     "name": "stdout",
     "output_type": "stream",
     "text": [
      "     test_statistic        p  -log2(p)\n",
      "0 1        0.002042  0.96396  0.052955\n"
     ]
    }
   ],
   "source": [
    "#The curves look statistically equivalent; performing log-rank test:\n",
    "lr=pairwise_logrank_test(df['time'], df['smoking'], df['DEATH_EVENT'])\n",
    "print(lr.summary)\n",
    "\n",
    "#According to p value the groups are equivalent and the difference doesn't affect survival"
   ]
  },
  {
   "cell_type": "code",
   "execution_count": 172,
   "id": "67d0e3b6",
   "metadata": {},
   "outputs": [
    {
     "data": {
      "text/plain": [
       "<AxesSubplot:xlabel='timeline'>"
      ]
     },
     "execution_count": 172,
     "metadata": {},
     "output_type": "execute_result"
    },
    {
     "data": {
      "image/png": "[encoded data removed]",
      "text/plain": [
       "<Figure size 432x288 with 1 Axes>"
      ]
     },
     "metadata": {
      "needs_background": "light"
     },
     "output_type": "display_data"
    }
   ],
   "source": [
    "#Check if there is any difference between diabetics and non-diabetics\n",
    "#dividing data into groups\n",
    "dbt = df.loc[df[\"diabetes\"] ==1, (\"time\", \"DEATH_EVENT\")]\n",
    "ndbt = df.loc[df[\"diabetes\"] ==0, (\"time\", \"DEATH_EVENT\")]\n",
    "\n",
    "#creating kmf for each group\n",
    "kmf_dbt = KaplanMeierFitter() \n",
    "kmf_ndbt = KaplanMeierFitter() \n",
    "\n",
    "kmf_dbt.fit(durations=ndbt[\"time\"], event_observed=ndbt[\"DEATH_EVENT\"], label=\"non-diabetics\")\n",
    "kmf_ndbt.fit(durations=dbt[\"time\"], event_observed=dbt[\"DEATH_EVENT\"], label=\"diabetics\")\n",
    "\n",
    "#visualizing surviving difference between genders\n",
    "kmf_dbt.plot()\n",
    "kmf_ndbt.plot()"
   ]
  },
  {
   "cell_type": "code",
   "execution_count": 173,
   "id": "d2003d6a",
   "metadata": {},
   "outputs": [
    {
     "name": "stdout",
     "output_type": "stream",
     "text": [
      "     test_statistic         p  -log2(p)\n",
      "0 1        0.040528  0.840452  0.250763\n"
     ]
    }
   ],
   "source": [
    "#The curves look statistically equivalent; performing log-rank test:\n",
    "lr=pairwise_logrank_test(df['time'], df['diabetes'], df['DEATH_EVENT'])\n",
    "print(lr.summary)\n",
    "\n",
    "#According to p value the groups are equivalent and the difference doesn't affect survival"
   ]
  },
  {
   "cell_type": "code",
   "execution_count": 174,
   "id": "6ccfbaf2",
   "metadata": {},
   "outputs": [
    {
     "name": "stderr",
     "output_type": "stream",
     "text": [
      "C:\\Users\\sofnl\\anaconda3\\lib\\site-packages\\lifelines\\utils\\__init__.py:1187: UserWarning: Attempting to convert an unexpected datatype 'category' to float. Suggestion: 1) use `lifelines.utils.datetimes_to_durations` to do conversions or 2) manually convert to floats/booleans.\n",
      "  warnings.warn(warning_text, UserWarning)\n",
      "C:\\Users\\sofnl\\anaconda3\\lib\\site-packages\\lifelines\\utils\\printer.py:62: FutureWarning: In future versions `DataFrame.to_latex` is expected to utilise the base implementation of `Styler.to_latex` for formatting and rendering. The arguments signature may therefore change. It is recommended instead to use `DataFrame.style.to_latex` which also contains additional functionality.\n",
      "  return summary_df[columns].to_latex(float_format=\"%.\" + str(self.decimals) + \"f\")\n"
     ]
    },
    {
     "data": {
      "text/html": [
       "<div>\n",
       "<style scoped>\n",
       "    .dataframe tbody tr th:only-of-type {\n",
       "        vertical-align: middle;\n",
       "    }\n",
       "\n",
       "    .dataframe tbody tr th {\n",
       "        vertical-align: top;\n",
       "    }\n",
       "\n",
       "    .dataframe thead th {\n",
       "        text-align: right;\n",
       "    }\n",
       "</style>\n",
       "<table border=\"1\" class=\"dataframe\">\n",
       "  <tbody>\n",
       "    <tr>\n",
       "      <th>model</th>\n",
       "      <td>lifelines.CoxPHFitter</td>\n",
       "    </tr>\n",
       "    <tr>\n",
       "      <th>duration col</th>\n",
       "      <td>'time'</td>\n",
       "    </tr>\n",
       "    <tr>\n",
       "      <th>event col</th>\n",
       "      <td>'DEATH_EVENT'</td>\n",
       "    </tr>\n",
       "    <tr>\n",
       "      <th>baseline estimation</th>\n",
       "      <td>breslow</td>\n",
       "    </tr>\n",
       "    <tr>\n",
       "      <th>number of observations</th>\n",
       "      <td>297</td>\n",
       "    </tr>\n",
       "    <tr>\n",
       "      <th>number of events observed</th>\n",
       "      <td>96</td>\n",
       "    </tr>\n",
       "    <tr>\n",
       "      <th>partial log-likelihood</th>\n",
       "      <td>-467.89</td>\n",
       "    </tr>\n",
       "    <tr>\n",
       "      <th>time fit was run</th>\n",
       "      <td>2022-09-13 08:34:18 UTC</td>\n",
       "    </tr>\n",
       "  </tbody>\n",
       "</table>\n",
       "</div><table border=\"1\" class=\"dataframe\">\n",
       "  <thead>\n",
       "    <tr style=\"text-align: right;\">\n",
       "      <th style=\"min-width: 12px;\"></th>\n",
       "      <th style=\"min-width: 12px;\">coef</th>\n",
       "      <th style=\"min-width: 12px;\">exp(coef)</th>\n",
       "      <th style=\"min-width: 12px;\">se(coef)</th>\n",
       "      <th style=\"min-width: 12px;\">coef lower 95%</th>\n",
       "      <th style=\"min-width: 12px;\">coef upper 95%</th>\n",
       "      <th style=\"min-width: 12px;\">exp(coef) lower 95%</th>\n",
       "      <th style=\"min-width: 12px;\">exp(coef) upper 95%</th>\n",
       "      <th style=\"min-width: 12px;\">cmp to</th>\n",
       "      <th style=\"min-width: 12px;\">z</th>\n",
       "      <th style=\"min-width: 12px;\">p</th>\n",
       "      <th style=\"min-width: 12px;\">-log2(p)</th>\n",
       "    </tr>\n",
       "  </thead>\n",
       "  <tbody>\n",
       "    <tr>\n",
       "      <th>age</th>\n",
       "      <td>0.05</td>\n",
       "      <td>1.05</td>\n",
       "      <td>0.01</td>\n",
       "      <td>0.03</td>\n",
       "      <td>0.06</td>\n",
       "      <td>1.03</td>\n",
       "      <td>1.07</td>\n",
       "      <td>0.00</td>\n",
       "      <td>4.90</td>\n",
       "      <td>&lt;0.005</td>\n",
       "      <td>19.99</td>\n",
       "    </tr>\n",
       "    <tr>\n",
       "      <th>anaemia</th>\n",
       "      <td>0.46</td>\n",
       "      <td>1.58</td>\n",
       "      <td>0.22</td>\n",
       "      <td>0.03</td>\n",
       "      <td>0.88</td>\n",
       "      <td>1.03</td>\n",
       "      <td>2.41</td>\n",
       "      <td>0.00</td>\n",
       "      <td>2.10</td>\n",
       "      <td>0.04</td>\n",
       "      <td>4.81</td>\n",
       "    </tr>\n",
       "    <tr>\n",
       "      <th>creatinine_phosphokinase</th>\n",
       "      <td>0.00</td>\n",
       "      <td>1.00</td>\n",
       "      <td>0.00</td>\n",
       "      <td>0.00</td>\n",
       "      <td>0.00</td>\n",
       "      <td>1.00</td>\n",
       "      <td>1.00</td>\n",
       "      <td>0.00</td>\n",
       "      <td>2.25</td>\n",
       "      <td>0.02</td>\n",
       "      <td>5.35</td>\n",
       "    </tr>\n",
       "    <tr>\n",
       "      <th>diabetes</th>\n",
       "      <td>0.13</td>\n",
       "      <td>1.14</td>\n",
       "      <td>0.22</td>\n",
       "      <td>-0.31</td>\n",
       "      <td>0.57</td>\n",
       "      <td>0.74</td>\n",
       "      <td>1.77</td>\n",
       "      <td>0.00</td>\n",
       "      <td>0.59</td>\n",
       "      <td>0.55</td>\n",
       "      <td>0.85</td>\n",
       "    </tr>\n",
       "    <tr>\n",
       "      <th>ejection_fraction</th>\n",
       "      <td>-0.05</td>\n",
       "      <td>0.95</td>\n",
       "      <td>0.01</td>\n",
       "      <td>-0.07</td>\n",
       "      <td>-0.03</td>\n",
       "      <td>0.93</td>\n",
       "      <td>0.97</td>\n",
       "      <td>0.00</td>\n",
       "      <td>-4.64</td>\n",
       "      <td>&lt;0.005</td>\n",
       "      <td>18.16</td>\n",
       "    </tr>\n",
       "    <tr>\n",
       "      <th>high_blood_pressure</th>\n",
       "      <td>0.47</td>\n",
       "      <td>1.60</td>\n",
       "      <td>0.22</td>\n",
       "      <td>0.05</td>\n",
       "      <td>0.90</td>\n",
       "      <td>1.05</td>\n",
       "      <td>2.45</td>\n",
       "      <td>0.00</td>\n",
       "      <td>2.18</td>\n",
       "      <td>0.03</td>\n",
       "      <td>5.11</td>\n",
       "    </tr>\n",
       "    <tr>\n",
       "      <th>platelets</th>\n",
       "      <td>-0.00</td>\n",
       "      <td>1.00</td>\n",
       "      <td>0.00</td>\n",
       "      <td>-0.00</td>\n",
       "      <td>0.00</td>\n",
       "      <td>1.00</td>\n",
       "      <td>1.00</td>\n",
       "      <td>0.00</td>\n",
       "      <td>-0.41</td>\n",
       "      <td>0.68</td>\n",
       "      <td>0.55</td>\n",
       "    </tr>\n",
       "    <tr>\n",
       "      <th>serum_creatinine</th>\n",
       "      <td>0.32</td>\n",
       "      <td>1.38</td>\n",
       "      <td>0.07</td>\n",
       "      <td>0.18</td>\n",
       "      <td>0.46</td>\n",
       "      <td>1.20</td>\n",
       "      <td>1.58</td>\n",
       "      <td>0.00</td>\n",
       "      <td>4.58</td>\n",
       "      <td>&lt;0.005</td>\n",
       "      <td>17.75</td>\n",
       "    </tr>\n",
       "    <tr>\n",
       "      <th>serum_sodium</th>\n",
       "      <td>-0.04</td>\n",
       "      <td>0.96</td>\n",
       "      <td>0.02</td>\n",
       "      <td>-0.09</td>\n",
       "      <td>0.00</td>\n",
       "      <td>0.91</td>\n",
       "      <td>1.00</td>\n",
       "      <td>0.00</td>\n",
       "      <td>-1.88</td>\n",
       "      <td>0.06</td>\n",
       "      <td>4.07</td>\n",
       "    </tr>\n",
       "    <tr>\n",
       "      <th>sex</th>\n",
       "      <td>-0.23</td>\n",
       "      <td>0.79</td>\n",
       "      <td>0.25</td>\n",
       "      <td>-0.73</td>\n",
       "      <td>0.26</td>\n",
       "      <td>0.48</td>\n",
       "      <td>1.30</td>\n",
       "      <td>0.00</td>\n",
       "      <td>-0.93</td>\n",
       "      <td>0.35</td>\n",
       "      <td>1.51</td>\n",
       "    </tr>\n",
       "    <tr>\n",
       "      <th>smoking</th>\n",
       "      <td>0.14</td>\n",
       "      <td>1.15</td>\n",
       "      <td>0.25</td>\n",
       "      <td>-0.35</td>\n",
       "      <td>0.63</td>\n",
       "      <td>0.70</td>\n",
       "      <td>1.88</td>\n",
       "      <td>0.00</td>\n",
       "      <td>0.55</td>\n",
       "      <td>0.58</td>\n",
       "      <td>0.78</td>\n",
       "    </tr>\n",
       "  </tbody>\n",
       "</table><br><div>\n",
       "<style scoped>\n",
       "    .dataframe tbody tr th:only-of-type {\n",
       "        vertical-align: middle;\n",
       "    }\n",
       "\n",
       "    .dataframe tbody tr th {\n",
       "        vertical-align: top;\n",
       "    }\n",
       "\n",
       "    .dataframe thead th {\n",
       "        text-align: right;\n",
       "    }\n",
       "</style>\n",
       "<table border=\"1\" class=\"dataframe\">\n",
       "  <tbody>\n",
       "    <tr>\n",
       "      <th>Concordance</th>\n",
       "      <td>0.74</td>\n",
       "    </tr>\n",
       "    <tr>\n",
       "      <th>Partial AIC</th>\n",
       "      <td>957.78</td>\n",
       "    </tr>\n",
       "    <tr>\n",
       "      <th>log-likelihood ratio test</th>\n",
       "      <td>80.41 on 11 df</td>\n",
       "    </tr>\n",
       "    <tr>\n",
       "      <th>-log2(p) of ll-ratio test</th>\n",
       "      <td>39.57</td>\n",
       "    </tr>\n",
       "  </tbody>\n",
       "</table>\n",
       "</div>"
      ],
      "text/latex": [
       "\\begin{tabular}{lrrrrrrrrrrr}\n",
       "\\toprule\n",
       "{} &  coef &  exp(coef) &  se(coef) &  coef lower 95\\% &  coef upper 95\\% &  exp(coef) lower 95\\% &  exp(coef) upper 95\\% &  cmp to &     z &    p &  -log2(p) \\\\\n",
       "covariate                &       &            &           &                 &                 &                      &                      &         &       &      &           \\\\\n",
       "\\midrule\n",
       "age                      &  0.05 &       1.05 &      0.01 &            0.03 &            0.06 &                 1.03 &                 1.07 &    0.00 &  4.90 & 0.00 &     19.99 \\\\\n",
       "anaemia                  &  0.46 &       1.58 &      0.22 &            0.03 &            0.88 &                 1.03 &                 2.41 &    0.00 &  2.10 & 0.04 &      4.81 \\\\\n",
       "creatinine\\_phosphokinase &  0.00 &       1.00 &      0.00 &            0.00 &            0.00 &                 1.00 &                 1.00 &    0.00 &  2.25 & 0.02 &      5.35 \\\\\n",
       "diabetes                 &  0.13 &       1.14 &      0.22 &           -0.31 &            0.57 &                 0.74 &                 1.77 &    0.00 &  0.59 & 0.55 &      0.85 \\\\\n",
       "ejection\\_fraction        & -0.05 &       0.95 &      0.01 &           -0.07 &           -0.03 &                 0.93 &                 0.97 &    0.00 & -4.64 & 0.00 &     18.16 \\\\\n",
       "high\\_blood\\_pressure      &  0.47 &       1.60 &      0.22 &            0.05 &            0.90 &                 1.05 &                 2.45 &    0.00 &  2.18 & 0.03 &      5.11 \\\\\n",
       "platelets                & -0.00 &       1.00 &      0.00 &           -0.00 &            0.00 &                 1.00 &                 1.00 &    0.00 & -0.41 & 0.68 &      0.55 \\\\\n",
       "serum\\_creatinine         &  0.32 &       1.38 &      0.07 &            0.18 &            0.46 &                 1.20 &                 1.58 &    0.00 &  4.58 & 0.00 &     17.75 \\\\\n",
       "serum\\_sodium             & -0.04 &       0.96 &      0.02 &           -0.09 &            0.00 &                 0.91 &                 1.00 &    0.00 & -1.88 & 0.06 &      4.07 \\\\\n",
       "sex                      & -0.23 &       0.79 &      0.25 &           -0.73 &            0.26 &                 0.48 &                 1.30 &    0.00 & -0.93 & 0.35 &      1.51 \\\\\n",
       "smoking                  &  0.14 &       1.15 &      0.25 &           -0.35 &            0.63 &                 0.70 &                 1.88 &    0.00 &  0.55 & 0.58 &      0.78 \\\\\n",
       "\\bottomrule\n",
       "\\end{tabular}\n"
      ],
      "text/plain": [
       "<lifelines.CoxPHFitter: fitted with 297 total observations, 201 right-censored observations>\n",
       "             duration col = 'time'\n",
       "                event col = 'DEATH_EVENT'\n",
       "      baseline estimation = breslow\n",
       "   number of observations = 297\n",
       "number of events observed = 96\n",
       "   partial log-likelihood = -467.89\n",
       "         time fit was run = 2022-09-13 08:34:18 UTC\n",
       "\n",
       "---\n",
       "                           coef  exp(coef)   se(coef)   coef lower 95%   coef upper 95%  exp(coef) lower 95%  exp(coef) upper 95%\n",
       "covariate                                                                                                                        \n",
       "age                        0.05       1.05       0.01             0.03             0.06                 1.03                 1.07\n",
       "anaemia                    0.46       1.58       0.22             0.03             0.88                 1.03                 2.41\n",
       "creatinine_phosphokinase   0.00       1.00       0.00             0.00             0.00                 1.00                 1.00\n",
       "diabetes                   0.13       1.14       0.22            -0.31             0.57                 0.74                 1.77\n",
       "ejection_fraction         -0.05       0.95       0.01            -0.07            -0.03                 0.93                 0.97\n",
       "high_blood_pressure        0.47       1.60       0.22             0.05             0.90                 1.05                 2.45\n",
       "platelets                 -0.00       1.00       0.00            -0.00             0.00                 1.00                 1.00\n",
       "serum_creatinine           0.32       1.38       0.07             0.18             0.46                 1.20                 1.58\n",
       "serum_sodium              -0.04       0.96       0.02            -0.09             0.00                 0.91                 1.00\n",
       "sex                       -0.23       0.79       0.25            -0.73             0.26                 0.48                 1.30\n",
       "smoking                    0.14       1.15       0.25            -0.35             0.63                 0.70                 1.88\n",
       "\n",
       "                           cmp to     z      p   -log2(p)\n",
       "covariate                                                \n",
       "age                          0.00  4.90 <0.005      19.99\n",
       "anaemia                      0.00  2.10   0.04       4.81\n",
       "creatinine_phosphokinase     0.00  2.25   0.02       5.35\n",
       "diabetes                     0.00  0.59   0.55       0.85\n",
       "ejection_fraction            0.00 -4.64 <0.005      18.16\n",
       "high_blood_pressure          0.00  2.18   0.03       5.11\n",
       "platelets                    0.00 -0.41   0.68       0.55\n",
       "serum_creatinine             0.00  4.58 <0.005      17.75\n",
       "serum_sodium                 0.00 -1.88   0.06       4.07\n",
       "sex                          0.00 -0.93   0.35       1.51\n",
       "smoking                      0.00  0.55   0.58       0.78\n",
       "---\n",
       "Concordance = 0.74\n",
       "Partial AIC = 957.78\n",
       "log-likelihood ratio test = 80.41 on 11 df\n",
       "-log2(p) of ll-ratio test = 39.57"
      ]
     },
     "metadata": {},
     "output_type": "display_data"
    }
   ],
   "source": [
    "#Create a Cox regression using the “time” and “DEATH_EVENT” as the outcome; other variables as the independent predictors.\n",
    "cph = CoxPHFitter() \n",
    "cph.fit(df[:-2], 'time', event_col='DEATH_EVENT')   \n",
    "cph.print_summary() \n"
   ]
  },
  {
   "cell_type": "code",
   "execution_count": 175,
   "id": "110c1322",
   "metadata": {},
   "outputs": [
    {
     "name": "stdout",
     "output_type": "stream",
     "text": [
      "                    Variable       VIF\n",
      "0                        age  1.068365\n",
      "1                    anaemia  1.066476\n",
      "2   creatinine_phosphokinase  1.060983\n",
      "3                   diabetes  1.064280\n",
      "4          ejection_fraction  1.065725\n",
      "5        high_blood_pressure  1.029255\n",
      "6                  platelets  1.045777\n",
      "7           serum_creatinine  1.069243\n",
      "8               serum_sodium  1.096363\n",
      "9                        sex  1.337709\n",
      "10                   smoking  1.283023\n"
     ]
    },
    {
     "name": "stderr",
     "output_type": "stream",
     "text": [
      "C:\\Users\\sofnl\\AppData\\Local\\Temp\\ipykernel_10608\\3535737232.py:33: SettingWithCopyWarning: \n",
      "A value is trying to be set on a copy of a slice from a DataFrame.\n",
      "Try using .loc[row_indexer,col_indexer] = value instead\n",
      "\n",
      "See the caveats in the documentation: https://pandas.pydata.org/pandas-docs/stable/user_guide/indexing.html#returning-a-view-versus-a-copy\n",
      "  X['intercept'] = 1\n"
     ]
    }
   ],
   "source": [
    "print(compute_vif(df.columns[:-2]))\n",
    "#all the betas are between 1 and 2; no inflation due to correlations, thus no need to remove vars"
   ]
  },
  {
   "cell_type": "code",
   "execution_count": null,
   "id": "e7fa3db0",
   "metadata": {},
   "outputs": [],
   "source": [
    "#Calculate the exp of the estimates and based on the p-value determine which values increase the hazard of death(Hazard ratios).\n",
    "\n",
    "#According to the exp and p in the model summary: age, anaemia, high blood pressure, and serum creatinine"
   ]
  }
 ],
 "metadata": {
  "kernelspec": {
   "display_name": "Python 3 (ipykernel)",
   "language": "python",
   "name": "python3"
  },
  "language_info": {
   "codemirror_mode": {
    "name": "ipython",
    "version": 3
   },
   "file_extension": ".py",
   "mimetype": "text/x-python",
   "name": "python",
   "nbconvert_exporter": "python",
   "pygments_lexer": "ipython3",
   "version": "3.9.12"
  }
 },
 "nbformat": 4,
 "nbformat_minor": 5
}
