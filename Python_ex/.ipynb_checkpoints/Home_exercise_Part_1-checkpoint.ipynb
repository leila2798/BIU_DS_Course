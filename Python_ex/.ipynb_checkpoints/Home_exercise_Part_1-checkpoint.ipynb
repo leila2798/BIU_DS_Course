{
 "cells": [
  {
   "cell_type": "markdown",
   "metadata": {
    "id": "cj6mksUH0z4T"
   },
   "source": [
    "# Exercises for part I - Try it at home"
   ]
  },
  {
   "cell_type": "markdown",
   "metadata": {
    "id": "HnE0F6X80z4t"
   },
   "source": [
    "## List\n",
    " \n",
    "1. Create a list of numbers from 1 to 10"
   ]
  },
  {
   "cell_type": "code",
   "execution_count": 1,
   "metadata": {
    "id": "uxGhkTi20z40"
   },
   "outputs": [],
   "source": [
    "lst = [1,2,3,4,5,6,7,8,9,10]"
   ]
  },
  {
   "cell_type": "markdown",
   "metadata": {
    "id": "hmiGxvID0z42"
   },
   "source": [
    "2. Append to the list the number 20"
   ]
  },
  {
   "cell_type": "code",
   "execution_count": 2,
   "metadata": {
    "id": "dcrqk7su0z43"
   },
   "outputs": [
    {
     "name": "stdout",
     "output_type": "stream",
     "text": [
      "[1, 2, 3, 4, 5, 6, 7, 8, 9, 10, 20]\n"
     ]
    }
   ],
   "source": [
    "lst.append(20)\n",
    "print(lst)"
   ]
  },
  {
   "cell_type": "markdown",
   "metadata": {
    "id": "hK6DBmTq0z45"
   },
   "source": [
    "3. Insert two zeros after the fourth place of the list"
   ]
  },
  {
   "cell_type": "code",
   "execution_count": 3,
   "metadata": {
    "id": "1nH9chPK0z47"
   },
   "outputs": [
    {
     "name": "stdout",
     "output_type": "stream",
     "text": [
      "[0, 0, 1, 2, 3, 4, 5, 6, 7, 8, 9, 10, 20]\n"
     ]
    }
   ],
   "source": [
    "lst=[0,0] + lst\n",
    "print(lst)"
   ]
  },
  {
   "cell_type": "markdown",
   "metadata": {
    "id": "mD6Y2rEr0z5A"
   },
   "source": [
    "4. Sort the list in reverse order"
   ]
  },
  {
   "cell_type": "code",
   "execution_count": 4,
   "metadata": {
    "id": "bXMkpAQ50z5R"
   },
   "outputs": [
    {
     "data": {
      "text/plain": [
       "[20, 10, 9, 8, 7, 6, 5, 4, 3, 2, 1, 0, 0]"
      ]
     },
     "execution_count": 4,
     "metadata": {},
     "output_type": "execute_result"
    }
   ],
   "source": [
    "lst.sort(reverse=True)\n",
    "lst"
   ]
  },
  {
   "cell_type": "markdown",
   "metadata": {
    "id": "AyM9QmQd0z5W"
   },
   "source": [
    "5. Remove the last two items from the list"
   ]
  },
  {
   "cell_type": "code",
   "execution_count": 5,
   "metadata": {
    "id": "KAB2xQeR0z5a"
   },
   "outputs": [
    {
     "data": {
      "text/plain": [
       "[20, 10, 9, 8, 7, 6, 5, 4, 3, 2, 1]"
      ]
     },
     "execution_count": 5,
     "metadata": {},
     "output_type": "execute_result"
    }
   ],
   "source": [
    "lst = lst[0:(len(lst)-2)]\n",
    "lst"
   ]
  },
  {
   "cell_type": "markdown",
   "metadata": {
    "id": "zBGlL7U40z5c"
   },
   "source": [
    "6. Invert the order of the list"
   ]
  },
  {
   "cell_type": "code",
   "execution_count": 6,
   "metadata": {
    "id": "Hpjdz7Lp0z5e"
   },
   "outputs": [
    {
     "name": "stdout",
     "output_type": "stream",
     "text": [
      "[1, 2, 3, 4, 5, 6, 7, 8, 9, 10, 20]\n"
     ]
    }
   ],
   "source": [
    "lst.reverse()\n",
    "print(lst)"
   ]
  },
  {
   "cell_type": "markdown",
   "metadata": {
    "id": "i7KjJ2ZM0z5j"
   },
   "source": [
    "7. How many items has the list?"
   ]
  },
  {
   "cell_type": "code",
   "execution_count": 8,
   "metadata": {
    "id": "N_vRfST90z5m"
   },
   "outputs": [
    {
     "name": "stdout",
     "output_type": "stream",
     "text": [
      "The list has 11 items.\n"
     ]
    }
   ],
   "source": [
    "print(\"The list has {} items.\".format(len(lst)))"
   ]
  },
  {
   "cell_type": "markdown",
   "metadata": {
    "id": "PAMOydIX0z5p"
   },
   "source": [
    "8. Give the minimum, maximum and the sum of all the items in the list"
   ]
  },
  {
   "cell_type": "code",
   "execution_count": 10,
   "metadata": {
    "id": "4ML2dM1X0z5t"
   },
   "outputs": [
    {
     "name": "stdout",
     "output_type": "stream",
     "text": [
      "The minimum is 1,\n",
      "The maximum is 20,\n",
      "The sum of lst elements is 75\n"
     ]
    }
   ],
   "source": [
    "print(\"The minimum is {},\\nThe maximum is {},\\nThe sum of lst items is {}\".format(min(lst),max(lst), sum(lst)))"
   ]
  },
  {
   "cell_type": "markdown",
   "metadata": {
    "id": "WrK51x8f0z5u"
   },
   "source": [
    "9. What will happen if you multiply the list by 2?"
   ]
  },
  {
   "cell_type": "code",
   "execution_count": 11,
   "metadata": {
    "id": "nt9O4ERU0z56"
   },
   "outputs": [
    {
     "name": "stdout",
     "output_type": "stream",
     "text": [
      "[1, 2, 3, 4, 5, 6, 7, 8, 9, 10, 20, 1, 2, 3, 4, 5, 6, 7, 8, 9, 10, 20]\n"
     ]
    }
   ],
   "source": [
    "print(lst*2)"
   ]
  },
  {
   "cell_type": "markdown",
   "metadata": {
    "id": "j99REv0K0z57"
   },
   "source": [
    "10. Can you divide the list by 3?"
   ]
  },
  {
   "cell_type": "markdown",
   "metadata": {
    "id": "BDl6Twzp0z59"
   },
   "source": [
    "No, I get an exception:\n",
    "\n",
    "### TypeError: unsupported operand type(s) for /: 'list' and 'int'"
   ]
  },
  {
   "cell_type": "markdown",
   "metadata": {
    "id": "oEAZsH1Q0z6B"
   },
   "source": [
    "# Tupples\n",
    " \n",
    "1. Create a tupple with three characters and four numbers"
   ]
  },
  {
   "cell_type": "code",
   "execution_count": 13,
   "metadata": {
    "id": "w3pGhpgT0z6C"
   },
   "outputs": [
    {
     "data": {
      "text/plain": [
       "('a', 's', 'd', 1, 2, 3, 4)"
      ]
     },
     "execution_count": 13,
     "metadata": {},
     "output_type": "execute_result"
    }
   ],
   "source": [
    "tpl = ('a', 's', 'd', 1, 2, 3, 4)\n",
    "tpl"
   ]
  },
  {
   "cell_type": "markdown",
   "metadata": {
    "id": "x9ZpFFtR0z6D"
   },
   "source": [
    "2. Append two booleans (false, true) to the tupple"
   ]
  },
  {
   "cell_type": "code",
   "execution_count": 14,
   "metadata": {
    "id": "7rVJJMFS0z6E"
   },
   "outputs": [
    {
     "data": {
      "text/plain": [
       "('a', 's', 'd', 1, 2, 3, 4, True, False)"
      ]
     },
     "execution_count": 14,
     "metadata": {},
     "output_type": "execute_result"
    }
   ],
   "source": [
    "tpl += (True, False)\n",
    "tpl"
   ]
  },
  {
   "cell_type": "markdown",
   "metadata": {
    "id": "4c5md2Ts0z6F"
   },
   "source": [
    "3. Retrieve the third to sixth items from the tupple"
   ]
  },
  {
   "cell_type": "code",
   "execution_count": 24,
   "metadata": {
    "id": "icTSn6T40z6G"
   },
   "outputs": [
    {
     "name": "stdout",
     "output_type": "stream",
     "text": [
      "<class 'str'> <class 'int'> <class 'bool'>\n"
     ]
    },
    {
     "data": {
      "text/plain": [
       "bool"
      ]
     },
     "execution_count": 24,
     "metadata": {},
     "output_type": "execute_result"
    }
   ],
   "source": [
    "tpl1 = tpl[2:6]\n",
    "tpl1\n",
    "print(\"{} {} {}\".format(type('a'), type(1),type(True)))\n",
    "type(True)"
   ]
  },
  {
   "cell_type": "markdown",
   "metadata": {
    "id": "dU3ONa460z6I"
   },
   "source": [
    "4. Divide the tupple by data type and create a list for each, then create a muttable tupple using these lists "
   ]
  },
  {
   "cell_type": "code",
   "execution_count": 25,
   "metadata": {
    "id": "OVnT3gFt0z6Q"
   },
   "outputs": [
    {
     "data": {
      "text/plain": [
       "([1, 2, 3, 4], ['a', 's', 'd'], [True, False], [])"
      ]
     },
     "execution_count": 25,
     "metadata": {},
     "output_type": "execute_result"
    }
   ],
   "source": [
    "int_lst = []\n",
    "str_lst = []\n",
    "bool_lst = []\n",
    "unknown_lst = []\n",
    "for e in tpl:\n",
    "    if type(e) == int:\n",
    "        int_lst.append(e)\n",
    "    elif type(e) == str:\n",
    "        str_lst.append(e)\n",
    "    elif type(e) == bool:\n",
    "        bool_lst.append(e)\n",
    "    else:\n",
    "       unknown_lst.append(e)\n",
    "mut_tpl = int_lst, str_lst, bool_lst, unknown_lst\n",
    "mut_tpl"
   ]
  },
  {
   "cell_type": "markdown",
   "metadata": {
    "id": "NzSnIBWn0z6W"
   },
   "source": [
    "# Sets\n",
    " \n",
    "1. Create a set using the following paragraph:\n",
    " \n",
    "<quote>\n",
    "\"Shallow copy is a bit-wise copy of an object. A new object is created that has an exact copy of the values in the original object\"\n",
    "<quote>\n",
    " \n",
    "Note: Each part of the set must be a word, not a character!"
   ]
  },
  {
   "cell_type": "code",
   "execution_count": 32,
   "metadata": {
    "id": "QG_SIvYA0z6i"
   },
   "outputs": [
    {
     "data": {
      "text/plain": [
       "{'A',\n",
       " 'Shallow',\n",
       " 'a',\n",
       " 'an',\n",
       " 'bit',\n",
       " 'copy',\n",
       " 'created',\n",
       " 'exact',\n",
       " 'has',\n",
       " 'in',\n",
       " 'is',\n",
       " 'new',\n",
       " 'object',\n",
       " 'of',\n",
       " 'original',\n",
       " 'that',\n",
       " 'the',\n",
       " 'values',\n",
       " 'wise'}"
      ]
     },
     "execution_count": 32,
     "metadata": {},
     "output_type": "execute_result"
    }
   ],
   "source": [
    "#regular expressions\n",
    "import re\n",
    "\n",
    "str1='''Shallow copy is a bit-wise copy of an object.A new object is created that has an exact copy of the values in the original object'''\n",
    "#replace punctuation with whitespace\n",
    "str2 = re.sub(r'[^\\w\\s]', ' ', str1)\n",
    "#str2\n",
    "s = set(str2.split())\n",
    "s"
   ]
  },
  {
   "cell_type": "markdown",
   "metadata": {
    "id": "e2IcYLgC0z6i"
   },
   "source": [
    "2. Do you see something wierd in this set? What? How can you prevent that?"
   ]
  },
  {
   "cell_type": "markdown",
   "metadata": {
    "id": "7El5QN_l0z6j"
   },
   "source": [
    "NOTHING..."
   ]
  },
  {
   "cell_type": "markdown",
   "metadata": {
    "id": "KVn-r_9Z0z6j"
   },
   "source": [
    "# Dictionary\n",
    " \n",
    "1. Generate a dictionary from the following table:\n",
    "\n",
    "<table>\n",
    "    <tr> <th> EmployeeID </th> <th> Name </th> <th> Position </th> <th> Phone </th> </tr>\n",
    "    <tr> <td> 1020 </td> <td> Harry Smith </td> <td> Sales Manager </td> <td> 030-223.65.44 </td> </tr>\n",
    "    <tr> <td> 2201 </td><td> Margaret Holsum </td> <td> Sales Representative </td> <td> 030-223.64.12 </td> </tr>\n",
    "    <tr> <td> 3320 </td><td> Lasly Howard </td> <td> Human Resources </td> <td> 030-223.83.33 </td> </tr>\n",
    "    <tr> <td> 8111 </td><td> Larry Johnson </td> <td> Project Manager </td> <td> 030-224.22.00 </td> </tr>\n",
    "    <tr> <td> 2733 </td><td> Hellen Young </td> <td> Customer Service </td> <td> 030-223.03.20 </td> </tr>\n",
    "</table>\n"
   ]
  },
  {
   "cell_type": "code",
   "execution_count": 47,
   "metadata": {
    "id": "AIe-j-oQ0z6l"
   },
   "outputs": [
    {
     "data": {
      "text/plain": [
       "{'1020': {'Name': 'Harry Smith',\n",
       "  'Position': 'Sales Manager',\n",
       "  'Phone': '030-223.65.44'},\n",
       " '2201': {'Name': 'Margaret Holsum',\n",
       "  'Position': 'Sales Representative',\n",
       "  'Phone': '030-223.64.12'},\n",
       " '3320': {'Name': 'Lasly Howard',\n",
       "  'Position': 'Human Resources',\n",
       "  'Phone': '030-223.83.33'},\n",
       " '8111': {'Name': 'Larry Johnson',\n",
       "  'Position': 'Project Manager',\n",
       "  'Phone': '030-224.22.00'},\n",
       " '2733': {'Name': 'Hellen Young',\n",
       "  'Position': 'Customer Service',\n",
       "  'Phone': '030-223.03.20'}}"
      ]
     },
     "execution_count": 47,
     "metadata": {},
     "output_type": "execute_result"
    }
   ],
   "source": [
    "dict_emp = {'1020':{'Name':'Harry Smith', 'Position':'Sales Manager', 'Phone':'030-223.65.44'},\n",
    "            '2201':{'Name':'Margaret Holsum', 'Position':'Sales Representative', 'Phone':'030-223.64.12'},\n",
    "            '3320':{'Name':'Lasly Howard', 'Position':'Human Resources','Phone':'030-223.83.33'},\n",
    "            '8111':{'Name':'Larry Johnson', 'Position':'Project Manager','Phone':'030-224.22.00'},\n",
    "            '2733':{'Name':'Hellen Young', 'Position':'Customer Service','Phone':'030-223.03.20'}\n",
    "            }\n",
    "dict_emp              "
   ]
  },
  {
   "cell_type": "markdown",
   "metadata": {
    "id": "YOF2EJUc0z6m"
   },
   "source": [
    "1. Get all the keys of the dictionary"
   ]
  },
  {
   "cell_type": "code",
   "execution_count": 41,
   "metadata": {
    "id": "sN-5Vhdq0z6n"
   },
   "outputs": [
    {
     "data": {
      "text/plain": [
       "dict_keys(['1020', '2201', '3320', '8111', '2733'])"
      ]
     },
     "execution_count": 41,
     "metadata": {},
     "output_type": "execute_result"
    }
   ],
   "source": [
    "dict_emp.keys()"
   ]
  },
  {
   "cell_type": "markdown",
   "metadata": {
    "id": "SBqWfiLj0z6o"
   },
   "source": [
    "2. Get all the values of the dictionary"
   ]
  },
  {
   "cell_type": "code",
   "execution_count": 42,
   "metadata": {
    "id": "Vzk4DN2w0z6o"
   },
   "outputs": [
    {
     "data": {
      "text/plain": [
       "dict_values([{'Name': 'Harry Smith', 'Position': 'Sales Manager', 'Phone': '030-223.65.44'}, {'Name': 'Margaret Holsum', 'Position': 'Sales Representative', 'Phone': '030-223.64.12'}, {'Name': 'Lasly Howard', 'Position': 'Human Resources', 'Phone': '030-223.83.33'}, {'Name': 'Larry Johnson', 'Position': 'Project Manager', 'Phone': '030-224.22.00'}, {'Name': 'Hellen Young', 'Position': 'Customer Service', 'Phone': '030-223.03.20'}])"
      ]
     },
     "execution_count": 42,
     "metadata": {},
     "output_type": "execute_result"
    }
   ],
   "source": [
    "dict_emp.values()"
   ]
  },
  {
   "cell_type": "markdown",
   "metadata": {
    "id": "bgc-DcqB0z6o"
   },
   "source": [
    "3. Show the third row of the table by calling the dictionary using the respective EmployeeID"
   ]
  },
  {
   "cell_type": "code",
   "execution_count": 48,
   "metadata": {
    "id": "skCcW65X0z6p"
   },
   "outputs": [
    {
     "name": "stdout",
     "output_type": "stream",
     "text": [
      "Id: 3320, {'Name': 'Lasly Howard', 'Position': 'Human Resources', 'Phone': '030-223.83.33'}\n"
     ]
    }
   ],
   "source": [
    "id = list(dict_emp.keys())[2]\n",
    "print(\"Id: {}, {}\".format(id,dict_emp[id]))"
   ]
  },
  {
   "cell_type": "markdown",
   "metadata": {
    "id": "GPF7g7HL0z6p"
   },
   "source": [
    "# Loop programming in python\n",
    " \n",
    "1. Write a script that shows all the primary numbers from 1 to 100. Use for.. loop and if..else"
   ]
  },
  {
   "cell_type": "code",
   "execution_count": 49,
   "metadata": {
    "id": "y0fMrAJn0z6q"
   },
   "outputs": [
    {
     "name": "stdout",
     "output_type": "stream",
     "text": [
      "2\n",
      "3\n",
      "5\n",
      "7\n",
      "11\n",
      "13\n",
      "17\n",
      "19\n",
      "23\n",
      "29\n",
      "31\n",
      "37\n",
      "41\n",
      "43\n",
      "47\n",
      "53\n",
      "59\n",
      "61\n",
      "67\n",
      "71\n",
      "73\n",
      "79\n",
      "83\n",
      "89\n",
      "97\n"
     ]
    }
   ],
   "source": [
    "import sympy\n",
    "for i in range(1, 101):\n",
    "    if sympy.isprime(i):\n",
    "        print(i)"
   ]
  },
  {
   "cell_type": "markdown",
   "metadata": {
    "id": "uTAWNgGy0z6q"
   },
   "source": [
    "2. Write a different solution to the problem in the last question, but using while.. in place of for.."
   ]
  },
  {
   "cell_type": "code",
   "execution_count": 9,
   "metadata": {},
   "outputs": [
    {
     "name": "stdout",
     "output_type": "stream",
     "text": [
      "1\n",
      "2\n",
      "3\n",
      "5\n",
      "7\n",
      "11\n",
      "13\n",
      "17\n",
      "19\n",
      "23\n",
      "29\n",
      "31\n",
      "37\n",
      "41\n",
      "43\n",
      "47\n",
      "53\n",
      "59\n",
      "61\n",
      "67\n",
      "71\n",
      "73\n",
      "79\n",
      "83\n",
      "89\n",
      "97\n"
     ]
    }
   ],
   "source": [
    "#brute force -- gets an integer number and returns true if it is prime\n",
    "def isprime(num):\n",
    "    if num<=3: \n",
    "        return True\n",
    "    else:\n",
    "        for i in range (2, num):\n",
    "            if (num%i == 0):\n",
    "                return False\n",
    "        return True\n",
    "i = 0\n",
    "while i<100:\n",
    "    i+=1\n",
    "    if isprime(i):\n",
    "        print(i)"
   ]
  },
  {
   "cell_type": "code",
   "execution_count": null,
   "metadata": {},
   "outputs": [],
   "source": []
  }
 ],
 "metadata": {
  "colab": {
   "name": "Home exercise - Part 1.ipynb",
   "provenance": []
  },
  "kernelspec": {
   "display_name": "Python 3 (ipykernel)",
   "language": "python",
   "name": "python3"
  },
  "language_info": {
   "codemirror_mode": {
    "name": "ipython",
    "version": 3
   },
   "file_extension": ".py",
   "mimetype": "text/x-python",
   "name": "python",
   "nbconvert_exporter": "python",
   "pygments_lexer": "ipython3",
   "version": "3.9.12"
  }
 },
 "nbformat": 4,
 "nbformat_minor": 1
}
