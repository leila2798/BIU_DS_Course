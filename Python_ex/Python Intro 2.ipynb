{
 "cells": [
  {
   "cell_type": "markdown",
   "metadata": {},
   "source": [
    "# Python Intro - Part 2\n",
    " \n",
    "The aim of this part is to learn about funtions and dive into the most important libraries used in data science.\n",
    " \n",
    "Today we will talk about:\n",
    " \n",
    "- Functions in Python\n",
    "- Programming paradigms\n",
    "- How to create our own Pyhton module (library) and call it for use\n",
    "- Some of the most important Python modules/libraries in Data Science\n",
    " \n",
    "\n",
    "\n",
    "## Functions in Python\n",
    "\n",
    "In Pyhton, funcions are defined by the <i>'def <function_name>()'</i> function:\n"
   ]
  },
  {
   "cell_type": "code",
   "execution_count": 1,
   "metadata": {},
   "outputs": [],
   "source": [
    "def bmi(weight, height):\n",
    "    res = weight / (height ** 2)\n",
    "    return(res)"
   ]
  },
  {
   "cell_type": "code",
   "execution_count": 2,
   "metadata": {},
   "outputs": [
    {
     "data": {
      "text/plain": [
       "float"
      ]
     },
     "execution_count": 2,
     "metadata": {},
     "output_type": "execute_result"
    }
   ],
   "source": [
    "c = bmi(75,1.78)\n",
    "type(c)"
   ]
  },
  {
   "cell_type": "code",
   "execution_count": 3,
   "metadata": {},
   "outputs": [
    {
     "data": {
      "text/plain": [
       "23.671253629592222"
      ]
     },
     "execution_count": 3,
     "metadata": {},
     "output_type": "execute_result"
    }
   ],
   "source": [
    "c"
   ]
  },
  {
   "cell_type": "markdown",
   "metadata": {},
   "source": [
    "Another example of a function is the following:"
   ]
  },
  {
   "cell_type": "code",
   "execution_count": 4,
   "metadata": {},
   "outputs": [],
   "source": [
    "def square(x):\n",
    "    res = []\n",
    "    for i in x:\n",
    "        res.append(i**2)\n",
    "    return(res)\n"
   ]
  },
  {
   "cell_type": "code",
   "execution_count": 5,
   "metadata": {},
   "outputs": [
    {
     "data": {
      "text/plain": [
       "[1, 4, 9, 16, 25]"
      ]
     },
     "execution_count": 5,
     "metadata": {},
     "output_type": "execute_result"
    }
   ],
   "source": [
    "x = [1,2,3,4,5]\n",
    "square(x)"
   ]
  },
  {
   "cell_type": "markdown",
   "metadata": {},
   "source": [
    "We can also define this function in a different way:"
   ]
  },
  {
   "cell_type": "code",
   "execution_count": 6,
   "metadata": {},
   "outputs": [],
   "source": [
    "def square2(x):\n",
    "    res = [i**2 for i in x]\n",
    "    return(res)"
   ]
  },
  {
   "cell_type": "code",
   "execution_count": 7,
   "metadata": {},
   "outputs": [
    {
     "data": {
      "text/plain": [
       "[1, 4, 9, 16, 25]"
      ]
     },
     "execution_count": 7,
     "metadata": {},
     "output_type": "execute_result"
    }
   ],
   "source": [
    "square2(x)"
   ]
  },
  {
   "cell_type": "markdown",
   "metadata": {},
   "source": [
    "### Map function\n",
    "\n",
    "In the following code, we tell the for loop to take each element of x and apply the previous operation to it. This resambles the <i>'aply'</i>  family of functions in R. Another way to do the same as the R's  <i>'aply'</i>  family is the use of the map function."
   ]
  },
  {
   "cell_type": "code",
   "execution_count": 8,
   "metadata": {},
   "outputs": [
    {
     "data": {
      "text/plain": [
       "<map at 0x2983f45f400>"
      ]
     },
     "execution_count": 8,
     "metadata": {},
     "output_type": "execute_result"
    }
   ],
   "source": [
    "def square(s):\n",
    "    return s**2\n",
    "\n",
    "res = map(square, x)\n",
    "res"
   ]
  },
  {
   "cell_type": "code",
   "execution_count": 9,
   "metadata": {},
   "outputs": [
    {
     "data": {
      "text/plain": [
       "[1, 4, 9, 16, 25]"
      ]
     },
     "execution_count": 9,
     "metadata": {},
     "output_type": "execute_result"
    }
   ],
   "source": [
    "list(res)"
   ]
  },
  {
   "cell_type": "code",
   "execution_count": 10,
   "metadata": {},
   "outputs": [
    {
     "data": {
      "text/plain": [
       "[]"
      ]
     },
     "execution_count": 10,
     "metadata": {},
     "output_type": "execute_result"
    }
   ],
   "source": [
    "list(res)"
   ]
  },
  {
   "cell_type": "code",
   "execution_count": 11,
   "metadata": {},
   "outputs": [
    {
     "data": {
      "text/plain": [
       "<map at 0x2983f45ff10>"
      ]
     },
     "execution_count": 11,
     "metadata": {},
     "output_type": "execute_result"
    }
   ],
   "source": [
    "def square(x):\n",
    "    return x**2\n",
    "\n",
    "res = map(square, x)\n",
    "res"
   ]
  },
  {
   "cell_type": "code",
   "execution_count": 12,
   "metadata": {},
   "outputs": [
    {
     "name": "stdout",
     "output_type": "stream",
     "text": [
      "1\n",
      "4\n",
      "9\n",
      "16\n",
      "25\n"
     ]
    }
   ],
   "source": [
    "for i in res:\n",
    "    print(i)"
   ]
  },
  {
   "cell_type": "code",
   "execution_count": 13,
   "metadata": {},
   "outputs": [],
   "source": [
    "for i in res:\n",
    "    print(i)"
   ]
  },
  {
   "cell_type": "code",
   "execution_count": 14,
   "metadata": {},
   "outputs": [],
   "source": [
    "for i in res:\n",
    "    print(i, list(res))"
   ]
  },
  {
   "cell_type": "markdown",
   "metadata": {},
   "source": [
    "### Lambda functions\n",
    "\n",
    "Another way to do the last operation is by using the <i>'lambda'</i> function. This function is called also an anonymous function because it does not need a name. Lambda is a vesatil generic function that admits an input and an output. The output is determined by the data manipulation we want to generate. The previous example can be created with lambda as follows: "
   ]
  },
  {
   "cell_type": "code",
   "execution_count": 15,
   "metadata": {},
   "outputs": [
    {
     "name": "stdout",
     "output_type": "stream",
     "text": [
      "1\n",
      "4\n",
      "9\n",
      "16\n",
      "25\n"
     ]
    }
   ],
   "source": [
    "x = [1,2,3,4,5]\n",
    "\n",
    "res = map(lambda i:i**2, x)\n",
    "\n",
    "for f in res:\n",
    "    print(f)"
   ]
  },
  {
   "cell_type": "code",
   "execution_count": 22,
   "metadata": {},
   "outputs": [
    {
     "name": "stdout",
     "output_type": "stream",
     "text": [
      "5\n",
      "125\n",
      "<class 'tuple'>\n"
     ]
    }
   ],
   "source": [
    "def getY(x):\n",
    "    return x, x**3\n",
    "\n",
    "a, b = getY(5)\n",
    "c=getY(10)\n",
    "print(a)\n",
    "print(b)\n",
    "print(type(c))"
   ]
  },
  {
   "cell_type": "code",
   "execution_count": 17,
   "metadata": {},
   "outputs": [
    {
     "data": {
      "text/plain": [
       "{'Chevrolet': 47619.05,\n",
       " 'Fiat': 33111.11,\n",
       " 'Mazda': 36190.48,\n",
       " 'Toyota': 39682.54}"
      ]
     },
     "execution_count": 17,
     "metadata": {},
     "output_type": "execute_result"
    }
   ],
   "source": [
    "a = {'Chevrolet':150000,'Fiat':104300,'Mazda':114000,'Toyota':125000}\n",
    "\n",
    "def NIS2dollar(x):\n",
    "    return x / 3.15\n",
    "\n",
    "a2 = {k: round(NIS2dollar(v),2) for k, v in a.items()}\n",
    "a2"
   ]
  },
  {
   "cell_type": "markdown",
   "metadata": {},
   "source": [
    "For a more in depth explanation of lambda functions you can read <a href=\"https://realpython.com/python-lambda/\">this blog</a>."
   ]
  },
  {
   "cell_type": "markdown",
   "metadata": {},
   "source": [
    "### Error manipulation in Python functions\n",
    "\n",
    "Python, like R, have some ways to prevent the interuption of running a function or to give the user a customized message when an errors occur.\n",
    " \n",
    "One of the ways is the use of the <i> try ... except </i> commands: "
   ]
  },
  {
   "cell_type": "code",
   "execution_count": 18,
   "metadata": {},
   "outputs": [],
   "source": [
    "def bmi(weight, height):\n",
    "    res = weight / height**2\n",
    "    return(res)"
   ]
  },
  {
   "cell_type": "code",
   "execution_count": 19,
   "metadata": {},
   "outputs": [
    {
     "data": {
      "text/plain": [
       "24.221453287197235"
      ]
     },
     "execution_count": 19,
     "metadata": {},
     "output_type": "execute_result"
    }
   ],
   "source": [
    "bmi(70,1.70)"
   ]
  },
  {
   "cell_type": "code",
   "execution_count": 20,
   "metadata": {},
   "outputs": [
    {
     "data": {
      "text/plain": [
       "0.002422145328719723"
      ]
     },
     "execution_count": 20,
     "metadata": {},
     "output_type": "execute_result"
    }
   ],
   "source": [
    "bmi(70,170)"
   ]
  },
  {
   "cell_type": "code",
   "execution_count": 21,
   "metadata": {},
   "outputs": [
    {
     "ename": "ZeroDivisionError",
     "evalue": "division by zero",
     "output_type": "error",
     "traceback": [
      "\u001b[1;31m---------------------------------------------------------------------------\u001b[0m",
      "\u001b[1;31mZeroDivisionError\u001b[0m                         Traceback (most recent call last)",
      "Input \u001b[1;32mIn [21]\u001b[0m, in \u001b[0;36m<cell line: 1>\u001b[1;34m()\u001b[0m\n\u001b[1;32m----> 1\u001b[0m \u001b[43mbmi\u001b[49m\u001b[43m(\u001b[49m\u001b[38;5;241;43m70\u001b[39;49m\u001b[43m,\u001b[49m\u001b[38;5;241;43m0\u001b[39;49m\u001b[43m)\u001b[49m\n",
      "Input \u001b[1;32mIn [18]\u001b[0m, in \u001b[0;36mbmi\u001b[1;34m(weight, height)\u001b[0m\n\u001b[0;32m      1\u001b[0m \u001b[38;5;28;01mdef\u001b[39;00m \u001b[38;5;21mbmi\u001b[39m(weight, height):\n\u001b[1;32m----> 2\u001b[0m     res \u001b[38;5;241m=\u001b[39m \u001b[43mweight\u001b[49m\u001b[43m \u001b[49m\u001b[38;5;241;43m/\u001b[39;49m\u001b[43m \u001b[49m\u001b[43mheight\u001b[49m\u001b[38;5;241;43m*\u001b[39;49m\u001b[38;5;241;43m*\u001b[39;49m\u001b[38;5;241;43m2\u001b[39;49m\n\u001b[0;32m      3\u001b[0m     \u001b[38;5;28;01mreturn\u001b[39;00m(res)\n",
      "\u001b[1;31mZeroDivisionError\u001b[0m: division by zero"
     ]
    }
   ],
   "source": [
    "bmi(70,0)"
   ]
  },
  {
   "cell_type": "code",
   "execution_count": 23,
   "metadata": {},
   "outputs": [
    {
     "ename": "TypeError",
     "evalue": "unsupported operand type(s) for ** or pow(): 'str' and 'int'",
     "output_type": "error",
     "traceback": [
      "\u001b[1;31m---------------------------------------------------------------------------\u001b[0m",
      "\u001b[1;31mTypeError\u001b[0m                                 Traceback (most recent call last)",
      "Input \u001b[1;32mIn [23]\u001b[0m, in \u001b[0;36m<cell line: 1>\u001b[1;34m()\u001b[0m\n\u001b[1;32m----> 1\u001b[0m \u001b[43mbmi\u001b[49m\u001b[43m(\u001b[49m\u001b[38;5;241;43m70\u001b[39;49m\u001b[43m,\u001b[49m\u001b[38;5;124;43m\"\u001b[39;49m\u001b[38;5;124;43ma\u001b[39;49m\u001b[38;5;124;43m\"\u001b[39;49m\u001b[43m)\u001b[49m\n",
      "Input \u001b[1;32mIn [18]\u001b[0m, in \u001b[0;36mbmi\u001b[1;34m(weight, height)\u001b[0m\n\u001b[0;32m      1\u001b[0m \u001b[38;5;28;01mdef\u001b[39;00m \u001b[38;5;21mbmi\u001b[39m(weight, height):\n\u001b[1;32m----> 2\u001b[0m     res \u001b[38;5;241m=\u001b[39m weight \u001b[38;5;241m/\u001b[39m \u001b[43mheight\u001b[49m\u001b[38;5;241;43m*\u001b[39;49m\u001b[38;5;241;43m*\u001b[39;49m\u001b[38;5;241;43m2\u001b[39;49m\n\u001b[0;32m      3\u001b[0m     \u001b[38;5;28;01mreturn\u001b[39;00m(res)\n",
      "\u001b[1;31mTypeError\u001b[0m: unsupported operand type(s) for ** or pow(): 'str' and 'int'"
     ]
    }
   ],
   "source": [
    "bmi(70,\"a\")"
   ]
  },
  {
   "cell_type": "code",
   "execution_count": null,
   "metadata": {},
   "outputs": [],
   "source": [
    "def bmi(weight, height):\n",
    "    try:\n",
    "        res = weight / height**2\n",
    "        return(res)\n",
    "    except:\n",
    "        print(\"An unexpected error ocurred!\")"
   ]
  },
  {
   "cell_type": "code",
   "execution_count": null,
   "metadata": {},
   "outputs": [],
   "source": [
    "bmi(70,1.70)"
   ]
  },
  {
   "cell_type": "code",
   "execution_count": null,
   "metadata": {},
   "outputs": [],
   "source": [
    "bmi(70,170)"
   ]
  },
  {
   "cell_type": "code",
   "execution_count": null,
   "metadata": {},
   "outputs": [],
   "source": [
    "bmi(70,0)"
   ]
  },
  {
   "cell_type": "code",
   "execution_count": null,
   "metadata": {},
   "outputs": [],
   "source": [
    "bmi(70,'a')"
   ]
  },
  {
   "cell_type": "code",
   "execution_count": null,
   "metadata": {},
   "outputs": [],
   "source": [
    "def bmi(weight=80, height=1.70):\n",
    "    try:\n",
    "        if(height > 2.5):\n",
    "            print('''Did you mean %f ?\n",
    "Please enter the height in meters and not in centimeters.''' % (float(height/100)))\n",
    "        else:\n",
    "            res = weight / height**2\n",
    "            if (res < 27):\n",
    "                res2 = 'Normal'\n",
    "            elif(res < 30):\n",
    "                res2 = 'Overweight'\n",
    "            else: \n",
    "                res2 = 'Obese'\n",
    "            return(res,res2)\n",
    "    except ZeroDivisionError:\n",
    "        print(\"Please give a height different of zero\")\n",
    "    except TypeError:\n",
    "        print(\"Please enter only numeric value\")\n",
    "    except:\n",
    "        print(\"An unexpected error ocurred!\")\n"
   ]
  },
  {
   "cell_type": "code",
   "execution_count": null,
   "metadata": {},
   "outputs": [],
   "source": [
    "bmi(78,1.80)"
   ]
  },
  {
   "cell_type": "code",
   "execution_count": null,
   "metadata": {},
   "outputs": [],
   "source": [
    "bmi(78,180)"
   ]
  },
  {
   "cell_type": "code",
   "execution_count": null,
   "metadata": {},
   "outputs": [],
   "source": [
    "bmi(78,0)"
   ]
  },
  {
   "cell_type": "code",
   "execution_count": null,
   "metadata": {},
   "outputs": [],
   "source": [
    "bmi('a',1.89)"
   ]
  },
  {
   "cell_type": "code",
   "execution_count": null,
   "metadata": {},
   "outputs": [],
   "source": [
    "bmi(height=1.70, weight=80)"
   ]
  },
  {
   "cell_type": "code",
   "execution_count": null,
   "metadata": {},
   "outputs": [],
   "source": [
    "bmi()"
   ]
  },
  {
   "cell_type": "markdown",
   "metadata": {},
   "source": [
    "## Exercise\n",
    " \n",
    "Create a function that converts any given time period (days, hours and minutes) into seconds. The input must include a string representing the time period and an integer representing the value of the time period. The function must be like this:\n",
    " \n",
    "<code>\n",
    "> convert2sec(23,'min')\n",
    "> 23 minutes = 1380 seconds\n",
    "</code>"
   ]
  },
  {
   "cell_type": "code",
   "execution_count": null,
   "metadata": {},
   "outputs": [],
   "source": [
    "def convert2sec(t,tp):\n",
    "    if tp = 'min':\n",
    "    elif tp = ''"
   ]
  },
  {
   "cell_type": "markdown",
   "metadata": {},
   "source": [
    "# Programming Paradigms\n",
    " \n",
    "Programming Languages are tools for solving problems! Python, as in the case of many other modern languages, we are able to use many of those paradigms at the time.\n",
    " \n",
    " \n",
    "## Declarative Programming\n",
    " \n",
    "In declarative programming we \"declare\" our mental order of things to do to be able to complete our goal. \n",
    "On this paradigm we concentrate on the \"WHAT\" we want and leave the \"HOW\" to do it to the compiler."
   ]
  },
  {
   "cell_type": "markdown",
   "metadata": {},
   "source": [
    "Some examples of declarative programming languages are:\n",
    " \n",
    "- XML\n",
    "- <a href=\"https://www.simpleweb.org/\"> HTML language </a>\n",
    "- <a href=\"https://www.latex-project.org/about/\"> LaTeX </a>\n",
    "- PostScript (.ps) / PDF\n",
    "- SQL\n",
    "- MapReduce\n",
    " \n",
    "In Python an example of a declarative code is:\n",
    "\n",
    " <code>  a = [i**2 for i in x] </code>\n"
   ]
  },
  {
   "cell_type": "code",
   "execution_count": null,
   "metadata": {},
   "outputs": [],
   "source": [
    "x = [1,2,3,4,5]\n",
    "a = [i**2 for i in x]\n",
    "a"
   ]
  },
  {
   "cell_type": "markdown",
   "metadata": {},
   "source": [
    "# Procedural Programming\n"
   ]
  },
  {
   "cell_type": "markdown",
   "metadata": {},
   "source": [
    "In this paradigm, the program runs a series of subroutines (procedures) that may change the state of the program, and may have side effects on the environment (internal memory) and on the outside (writing to the hard disk).\n",
    " \n",
    "In Python, an example of this paradigm is:\n",
    "\n",
    "<code>\n",
    "    a = []\n",
    "    for i in x:\n",
    "        a.append(i**2)\n",
    "</code>\n"
   ]
  },
  {
   "cell_type": "code",
   "execution_count": null,
   "metadata": {},
   "outputs": [],
   "source": [
    "a = []\n",
    "for i in x:\n",
    "    a.append(i**2)\n",
    "    \n",
    "a"
   ]
  },
  {
   "attachments": {
    "image.png": {
     "image/png": "[encoded data removed]"
    }
   },
   "cell_type": "markdown",
   "metadata": {},
   "source": [
    "# Functional Programming\n",
    " \n",
    "![image.png](attachment:image.png)"
   ]
  },
  {
   "cell_type": "markdown",
   "metadata": {},
   "source": [
    "This paradigm of programmings runs a series of functions without generating \"side effects\" (Has no interaction with the outside world). It does not interact with the user, nor with the filesystem, operating system, etc. The only interction permited is outputing the final result. Many languages permits this type of programming: Java, Pyhton, C++, C#, R, Mathematica, Javascript, etc.\n",
    "\n",
    "In Python, an example of this paradigm is:\n",
    "\n",
    "<code>   res = map(lambda i:i**2, x) </code>\n",
    "    \n"
   ]
  },
  {
   "cell_type": "code",
   "execution_count": null,
   "metadata": {},
   "outputs": [],
   "source": [
    "a = map(lambda i:i**2, x) \n",
    "print(a)\n",
    "list(a)"
   ]
  },
  {
   "cell_type": "markdown",
   "metadata": {},
   "source": [
    "# Object Oriented Programming\n",
    "\n",
    "## Classes and methods\n",
    "\n",
    "In object oriented programming classes are like a blueprint of an object. A class encapsulates the content of the object. Inside the class we can define values and functions. Functions inside a class are called methods and values are called attributes. There are two types of methods: public, which are callable from the object and private that are not callable and are used only inside the class. The default type of method is the public type. To define an internal method we use the notation \\_\\_method\\_\\_():.\n",
    " \n",
    "Let show a simple class in action:\n"
   ]
  },
  {
   "cell_type": "code",
   "execution_count": 24,
   "metadata": {},
   "outputs": [],
   "source": [
    "class Student:\n",
    "    def setName(self,name):\n",
    "        self.name = name\n",
    "    def getName(self):\n",
    "        return(self.name)\n",
    "\n"
   ]
  },
  {
   "cell_type": "code",
   "execution_count": 25,
   "metadata": {},
   "outputs": [
    {
     "data": {
      "text/plain": [
       "__main__.Student"
      ]
     },
     "execution_count": 25,
     "metadata": {},
     "output_type": "execute_result"
    }
   ],
   "source": [
    "studObj1 = Student()\n",
    "type(studObj1)"
   ]
  },
  {
   "cell_type": "code",
   "execution_count": 26,
   "metadata": {},
   "outputs": [],
   "source": [
    "studObj1.setName(\"David\")\n"
   ]
  },
  {
   "cell_type": "code",
   "execution_count": 27,
   "metadata": {},
   "outputs": [
    {
     "data": {
      "text/plain": [
       "'David'"
      ]
     },
     "execution_count": 27,
     "metadata": {},
     "output_type": "execute_result"
    }
   ],
   "source": [
    "studObj1.getName()"
   ]
  },
  {
   "cell_type": "code",
   "execution_count": null,
   "metadata": {},
   "outputs": [],
   "source": []
  },
  {
   "cell_type": "code",
   "execution_count": null,
   "metadata": {},
   "outputs": [],
   "source": [
    "studObj2 = Student() \n",
    "studObj2.setName(\"Noah\")\n",
    "studObj2.getName()"
   ]
  },
  {
   "cell_type": "code",
   "execution_count": null,
   "metadata": {},
   "outputs": [],
   "source": []
  },
  {
   "cell_type": "markdown",
   "metadata": {},
   "source": [
    "This code defines the class Student. We call the class by passing the class object to a variable (studObj1).\n",
    "The Student class has two public methods: setName() and getName(). The first assigns a 'name' to the object, while the second retrieves this 'name'. When defining a method we have to add as first argument 'self'. Self says the method that we are passing to the method the whole class attributes and methods. When calling the method from the outside, we obviate the self parameter.\n",
    " \n",
    "## Constructors\n",
    "\n",
    "Now if we call the getName() method without calling before the setName() method we will get an error. To initialize the attributes and prevent gettinhg errors, we use a private method called \\_\\_init\\_\\_(). This method is also called a constructor."
   ]
  },
  {
   "cell_type": "code",
   "execution_count": null,
   "metadata": {},
   "outputs": [],
   "source": [
    "class Student:\n",
    "    def __init__(self,name=\"\"):\n",
    "        self.name = name\n",
    "    def setName(self,name):\n",
    "        self.name = name\n",
    "    def getName(self):\n",
    "        return(self.name)\n"
   ]
  },
  {
   "cell_type": "code",
   "execution_count": null,
   "metadata": {},
   "outputs": [],
   "source": [
    "studObj1 = Student() \n",
    "studObj1.getName()"
   ]
  },
  {
   "cell_type": "code",
   "execution_count": null,
   "metadata": {},
   "outputs": [],
   "source": [
    "studObj1 = Student(\"David\") \n",
    "studObj1.getName()"
   ]
  },
  {
   "cell_type": "code",
   "execution_count": null,
   "metadata": {},
   "outputs": [],
   "source": [
    "studObj1.setName(\"Moshe\")\n",
    "studObj1.getName()"
   ]
  },
  {
   "cell_type": "markdown",
   "metadata": {},
   "source": [
    "Lets customize a bit more our Student class. We want to get the Student name when using the function print() as follows:\n",
    " \n",
    "> print(studObj1)\n",
    " \n",
    "If we run this function we will get an error. To return the name we have to add another private method: \\_\\_str\\_\\_(). This generates a string that is passed to the print method."
   ]
  },
  {
   "cell_type": "code",
   "execution_count": null,
   "metadata": {},
   "outputs": [],
   "source": [
    "class Student:\n",
    "    def __init__(self,name=\"\"):\n",
    "        self.name = name\n",
    "    def setName(self,name):\n",
    "        self.name = name\n",
    "    def getName(self):\n",
    "        return(self.name)\n",
    "    def __str__(self):\n",
    "        return \"The name of the student is %s\" % self.name\n"
   ]
  },
  {
   "cell_type": "code",
   "execution_count": null,
   "metadata": {},
   "outputs": [],
   "source": [
    "studObj1 = Student(\"David\") \n",
    "print(studObj1)"
   ]
  },
  {
   "cell_type": "markdown",
   "metadata": {},
   "source": [
    "# Inheritance\n",
    "\n",
    "Another characteristic of object oriented programming is the inheritance of the methods and attributes of one class into a newer class. This helps to reduce the amount of code by preventing to repeat the same class code into another code that has similar characteristics. We will now create a Classroom class. This class has the attributes: student name, teacher name, course name and classroom number. The student name will be inherited from the Student class."
   ]
  },
  {
   "cell_type": "code",
   "execution_count": null,
   "metadata": {},
   "outputs": [],
   "source": [
    "class Classroom(Student):\n",
    "    def __init__(self,name=\"\",teacher=\"\",course=\"\",class_num=\"\"):\n",
    "        self.name, self.teacher, self.course, self.class_num = name, teacher, course, class_num\n",
    "    def setTeacher(self, teacher):\n",
    "        self.teacher = teacher\n",
    "    def getTeacher(self):\n",
    "        return self.teacher\n",
    "    def setCourse(self,course):\n",
    "        self.course = course\n",
    "    def getCourse(self):\n",
    "        return self.course\n",
    "    def setClassNumber(self,class_num):\n",
    "        self.class_num = class_num\n",
    "    def getClassNumber(self):\n",
    "        return self.class_num\n",
    "    def __str__(self):\n",
    "        return '''Student Name: %s \\nTeacher Name: %s \\nCourse Name: %s \\nClassroom Number: %s \\n''' % (self.name, self.teacher, self.course, self.class_num)\n",
    "    "
   ]
  },
  {
   "cell_type": "code",
   "execution_count": null,
   "metadata": {},
   "outputs": [],
   "source": [
    "clsrmObj_1 = Classroom()\n",
    "print(clsrmObj_1)"
   ]
  },
  {
   "cell_type": "code",
   "execution_count": null,
   "metadata": {},
   "outputs": [],
   "source": [
    "clsrmObj_1.getName()"
   ]
  },
  {
   "cell_type": "markdown",
   "metadata": {},
   "source": [
    "As we can see, we did not defined in the Classroom class the method getName(), but it works because we inherited it from the Student class. In this case, the Student class is called the Parent Class (or the super-class) and the Classroom class is called the child class. Now we pass some data to the class parameters (attributes) and will print the resutls:"
   ]
  },
  {
   "cell_type": "code",
   "execution_count": null,
   "metadata": {},
   "outputs": [],
   "source": [
    "clsrmObj_1 = Classroom(\"David\",\"Moshe\",\"Pyhton\",\"100-A\")\n",
    "clsrmObj_2 = Classroom(\"Leah\",\"Moshe\",\"Pyhton\",\"100-A\")\n",
    "clsrmObj_3 = Classroom(\"Hannah\",\"Boris\",\"SQL\",\"115-C\")\n",
    "\n",
    "print(clsrmObj_1)\n",
    "print(clsrmObj_2)\n",
    "print(clsrmObj_3)"
   ]
  },
  {
   "cell_type": "code",
   "execution_count": null,
   "metadata": {},
   "outputs": [],
   "source": [
    "clsrmObj_1.setName(\"Gali\")\n",
    "clsrmObj_1.getName()"
   ]
  },
  {
   "cell_type": "code",
   "execution_count": null,
   "metadata": {},
   "outputs": [],
   "source": [
    "print(clsrmObj_1)"
   ]
  },
  {
   "cell_type": "markdown",
   "metadata": {},
   "source": [
    "---\n",
    "---\n",
    "\n",
    "<code></code>\n",
    "\n",
    "### Exercise: \n",
    " \n",
    "1. Write a class for cars. Each car has the following attributes:  \n",
    "    + Company \n",
    "    + Model \n",
    "    + BodyStyle \n",
    "    + Doors \n",
    "    + Cylinders \n",
    "    + Hybrid \n",
    " \n",
    "\n",
    "2. Create a method to retrieve and to set each of the attributes, and a constructor for printing the attribute values.\n",
    " \n",
    "3. Create objects for each of the following car models:\n",
    "\n",
    "    - Toyota Corola Sedan with 4 doors, 4 cylinder, hybrid\n",
    "    - Hyundai i30 Hatchback, 5 doors, 4 cylinder\n",
    "    - Fiat Tipo Wagon, 5 doors, 8 cylinder\n",
    "    - Seat Leon Hatchback, 3 doors, 4 cylinder\n",
    " \n",
    "\n",
    "4. Use the 'print' function to print each object attributes.\n",
    "\n",
    "<code></code>\n",
    "\n",
    "---\n",
    "---\n"
   ]
  },
  {
   "cell_type": "code",
   "execution_count": null,
   "metadata": {},
   "outputs": [],
   "source": []
  },
  {
   "cell_type": "markdown",
   "metadata": {},
   "source": [
    "# Modules (packages)\n",
    "\n",
    "Modules are python files that contain classes, methods and functions. We use modules to save code that will be reused many times in the same application and that could serve us in multiple different applications. In other words, modules is to write once and use anytime. \n",
    " \n",
    "A collection of modules are used to create Pyhton libraries (packages) that extends the power of Pyhton, permiting us to made things that the base Python language does not have.\n",
    " \n",
    "Module files are accessed in one of the following ways:\n",
    " \n",
    "- In the python library directory (in windows will be in c:\\Users\\<user_name>\\<pyhton_path>\\Libs\\site-packages; in linux is in /usr/[/local/]lib/pyhton<version>/site-packages)\n",
    "- In the current working directory\n",
    "- In a directory defined on the global variable PYTHONPATH.\n",
    "  \n",
    "Lets now create a module named <i>tcds_demo.py</i> tha will contain a class named <i>TCDS</i> and that will get as input the name of a programming language and will return if the language program will be used on our course or not.\n",
    " \n",
    "The code will lock like this:\n",
    "\n",
    "---\n",
    "dsdemo1.py \n",
    "--- \n",
    "\n",
    "<code>\n",
    "def checkLanguage(lang):\n",
    "    if(lang == \"R\"):\n",
    "        msg = \"We will use R extensively on machine learning!\"\n",
    "    elif(lang == \"Python\"):\n",
    "        msg = \"We will use Python extensively on machine learning and deep learning!\"\n",
    "    else:\n",
    "        msg = \"Sorry, we will not use %s on machine learning!\" % lang\n",
    "    print(msg)\n",
    "</code>\n",
    " \n",
    "We copy this code to notepad or a similar application and save it. To call the modeule we can use two methods:\n",
    " \n",
    "- import ds_demo as ds\n",
    " \n",
    "or\n",
    " \n",
    "- from ds_demo import DS\n",
    " \n",
    "Now we will see how to use each of those methods:\n"
   ]
  },
  {
   "cell_type": "code",
   "execution_count": null,
   "metadata": {},
   "outputs": [],
   "source": [
    "import dsdemo1 as ds\n",
    "\n",
    "ds.checkLanguage(\"R\")\n",
    "\n",
    "\n",
    "from dsdemo1 import checkLanguage"
   ]
  },
  {
   "cell_type": "code",
   "execution_count": null,
   "metadata": {},
   "outputs": [],
   "source": [
    "ds.SayHello()"
   ]
  },
  {
   "cell_type": "code",
   "execution_count": null,
   "metadata": {},
   "outputs": [],
   "source": [
    "from dsdemo1 import checkLanguage, SayHello\n",
    "\n",
    "checkLanguage(\"R\")\n"
   ]
  },
  {
   "cell_type": "code",
   "execution_count": null,
   "metadata": {},
   "outputs": [],
   "source": [
    "SayHello()"
   ]
  },
  {
   "cell_type": "markdown",
   "metadata": {},
   "source": [
    "# Common Python Libraries Used IN DS\n",
    "\n",
    "## numpy\n",
    " \n",
    "numpy is a Python module that extends the functionality of Python by adding advanced mathematical capabilities. It is writen in C which performs faster then native Python, and permits the use of large amount of data. This gives Python the possibility of working with what is called \"Big Data\".\n",
    " \n",
    "numpy offers enhanced data types with improved performance for lists, tupples and dictionaries. It also implements simple and multidimentional arrays, which in the base python are implemented as list of lists, which is not the best performing way to work with arrays.\n",
    " \n"
   ]
  },
  {
   "cell_type": "code",
   "execution_count": null,
   "metadata": {},
   "outputs": [],
   "source": [
    "import numpy as np\n",
    " \n",
    "a = np.array([(1,2,3), (4,5,6)], dtype = int)\n",
    "print(a)"
   ]
  },
  {
   "cell_type": "code",
   "execution_count": null,
   "metadata": {},
   "outputs": [],
   "source": [
    "a * 100"
   ]
  },
  {
   "cell_type": "code",
   "execution_count": null,
   "metadata": {},
   "outputs": [],
   "source": [
    "a * 1.5"
   ]
  },
  {
   "cell_type": "code",
   "execution_count": null,
   "metadata": {},
   "outputs": [],
   "source": [
    "### shape gives the dimentions of the array \n",
    "a.shape\n"
   ]
  },
  {
   "cell_type": "code",
   "execution_count": null,
   "metadata": {},
   "outputs": [],
   "source": [
    "### ndim returns the total number of dimentions in the array\n",
    "a.ndim"
   ]
  },
  {
   "cell_type": "code",
   "execution_count": null,
   "metadata": {},
   "outputs": [],
   "source": [
    "### len also gives the dimentions of array\n",
    "len(a)"
   ]
  },
  {
   "cell_type": "code",
   "execution_count": null,
   "metadata": {},
   "outputs": [],
   "source": [
    "### size gives the total number of elements composing the array\n",
    "a.size"
   ]
  },
  {
   "cell_type": "code",
   "execution_count": null,
   "metadata": {},
   "outputs": [],
   "source": [
    "### dtype gives the data type of the array values. As we created it as dtype int it returns int64\n",
    "a.dtype"
   ]
  },
  {
   "cell_type": "code",
   "execution_count": null,
   "metadata": {},
   "outputs": [],
   "source": [
    "### The default type is int64\n",
    "a = np.array([(1,2,3), (4,5,6)])\n",
    "a.dtype"
   ]
  },
  {
   "cell_type": "code",
   "execution_count": null,
   "metadata": {},
   "outputs": [],
   "source": [
    "### but we can change the type when creating the array\n",
    "a = np.array([(1,2,3), (4,5,6)], dtype='float16')\n",
    "a.dtype"
   ]
  },
  {
   "cell_type": "code",
   "execution_count": null,
   "metadata": {},
   "outputs": [],
   "source": [
    "### As we did in R, we can create zeros matrices\n",
    "b = np.zeros((2,5))\n",
    "print(b)"
   ]
  },
  {
   "cell_type": "code",
   "execution_count": null,
   "metadata": {},
   "outputs": [],
   "source": [
    "### ones matrices\n",
    "b = np.ones((4,5))\n",
    "print(b)"
   ]
  },
  {
   "cell_type": "code",
   "execution_count": null,
   "metadata": {},
   "outputs": [],
   "source": [
    "### and diagonal matrices\n",
    "b = np.diag((1,2,3,4))\n",
    "print(b)"
   ]
  },
  {
   "cell_type": "code",
   "execution_count": null,
   "metadata": {},
   "outputs": [],
   "source": [
    "### If we want to get a 3x6 matrix with all the values set to 100 we use the full function\n",
    "b = np.full((3,6),100) \n",
    "print(b)"
   ]
  },
  {
   "cell_type": "code",
   "execution_count": null,
   "metadata": {},
   "outputs": [],
   "source": [
    "### We can make aggregating operations on matrices:\n",
    "print(a)\n",
    "print(\"min = %d\" % a.min())\n",
    "print(\"max = %d\" % a.max())\n",
    "print(\"mean = %f\" % a.mean())\n",
    "print(\"sum = %d\" % a.sum())\n"
   ]
  },
  {
   "cell_type": "code",
   "execution_count": null,
   "metadata": {},
   "outputs": [],
   "source": [
    "### We can also create an array with random values \n",
    "np.random.random((4,4)) "
   ]
  },
  {
   "cell_type": "code",
   "execution_count": null,
   "metadata": {},
   "outputs": [],
   "source": [
    "### We can compare two matrices\n",
    "a = np.array([(1,2,3),(4,5,6)])\n",
    "b = np.array([(1,2,4),(4,8,6)])\n",
    "a == b"
   ]
  },
  {
   "cell_type": "code",
   "execution_count": null,
   "metadata": {},
   "outputs": [],
   "source": [
    "### or we can check element-wise a condition\n",
    "a < b"
   ]
  },
  {
   "cell_type": "code",
   "execution_count": null,
   "metadata": {},
   "outputs": [],
   "source": [
    "### addition of matrices\n",
    "np.add(a,b)"
   ]
  },
  {
   "cell_type": "code",
   "execution_count": null,
   "metadata": {},
   "outputs": [],
   "source": [
    "### substraction of matrices\n",
    "np.subtract(a,b)"
   ]
  },
  {
   "cell_type": "code",
   "execution_count": null,
   "metadata": {},
   "outputs": [],
   "source": [
    "### multiplication of matrices\n",
    "np.multiply(a,b)"
   ]
  },
  {
   "cell_type": "code",
   "execution_count": null,
   "metadata": {},
   "outputs": [],
   "source": [
    "### multiplication of matrices\n",
    "np.divide(a,b)"
   ]
  },
  {
   "cell_type": "markdown",
   "metadata": {},
   "source": [
    "There are many other functionalities on numpy that we will learn later in the course. Check the <a href=\"https://drive.google.com/open?id=1BcU_nw-YmKoc7V5FpX-kS5eeMJjcZwfh\"> Python cheat sheets </a> for more functions and apply them in your own matrices.\n",
    " \n",
    "\n",
    "## scipy\n",
    " \n",
    "scipy is a module that extend Python with linear algebra, that is useful for matematical and scientific applications. It is also writen in C, and requires that numpy is yet installed.\n",
    " \n",
    "Among the functionalities of scipy are sign, logaritmic, exponential, square root and trigonometric functions on matrices.  \n",
    "\n",
    "We will skip for now this part and will go to the next module."
   ]
  },
  {
   "cell_type": "markdown",
   "metadata": {},
   "source": [
    "## matplotlib\n",
    " \n",
    "matplotlib is a graphical library that produce publication quality plots. Those plots can be saved in many known formats like gif, png, jpg, pdf, eps, postcript, etc. This library depends on numpy.\n",
    "\n",
    "Here is an example of how to create a plot with matplotlib:\n"
   ]
  },
  {
   "cell_type": "code",
   "execution_count": null,
   "metadata": {},
   "outputs": [],
   "source": [
    "#!pip install --user matplotlib"
   ]
  },
  {
   "cell_type": "code",
   "execution_count": null,
   "metadata": {},
   "outputs": [],
   "source": [
    "import matplotlib.pyplot as plt\n",
    "#% matplotlib inline\n",
    "## prepare data\n",
    "x = [1,2,3,4]\n",
    "y = [10,20,25,30]\n",
    "\n",
    "## create plot container\n",
    "fig = plt.figure()\n",
    "\n",
    "## plot\n",
    "ax = fig.add_subplot(111)\n",
    "ax.plot(x, y, color='lightblue', linewidth=3)\n",
    "ax.scatter([2,4,6],\n",
    " [5,15,25],\n",
    " color='green',\n",
    " marker='+')\n",
    "## customize plot\n",
    "ax.set_xlim(0, 6.5)\n",
    "## present/save plot\n",
    "#plt.savefig('foo.png')\n",
    "plt.show()"
   ]
  },
  {
   "cell_type": "markdown",
   "metadata": {},
   "source": [
    "We can also define a grid and print multiple plots at a time:"
   ]
  },
  {
   "cell_type": "code",
   "execution_count": null,
   "metadata": {},
   "outputs": [],
   "source": [
    "from numpy.random import seed, rand\n",
    "\n",
    "## prepare the data\n",
    "x = [1,3,5,7,9]\n",
    "y = [3,9,15,21,26]\n",
    "seed(233)\n",
    "p = rand(100)\n",
    "seed(234)\n",
    "q = rand(100)\n",
    "\n",
    "## prepare the plot containers\n",
    "#fig = plt.figure()\n",
    "fig, ax = plt.subplots(2, 2, figsize=(8, 5)) ## print a grid of 2x2\n",
    "\n",
    "## plot\n",
    "ax[0,0].plot(x, y, color='lightblue', linewidth=3)\n",
    "ax[0,1].scatter(x, y, marker=\".\")\n",
    "ax[1,0].hist(p)       # Plot a histogram\n",
    "ax[1,1].boxplot(q)    # Make a box and whisker plot\n",
    "#ax[1,1].violinplot(p) \n",
    "\n",
    "## show\n",
    "fig.show()\n"
   ]
  },
  {
   "cell_type": "markdown",
   "metadata": {},
   "source": [
    "## seaborn\n",
    " \n",
    "Seaborn extends the capabilities of matplotlib by adding more power to the process of graph generation."
   ]
  },
  {
   "cell_type": "code",
   "execution_count": null,
   "metadata": {},
   "outputs": [],
   "source": [
    "## import the library\n",
    "import matplotlib.pyplot as plt\n",
    "import seaborn as sns"
   ]
  },
  {
   "cell_type": "code",
   "execution_count": null,
   "metadata": {},
   "outputs": [],
   "source": [
    "tips = sns.load_dataset(\"tips\")\n",
    "tips.head()"
   ]
  },
  {
   "cell_type": "code",
   "execution_count": null,
   "metadata": {},
   "outputs": [],
   "source": [
    "sns.boxenplot(x=\"time\",y=\"tip\", data=tips)"
   ]
  },
  {
   "cell_type": "code",
   "execution_count": null,
   "metadata": {},
   "outputs": [],
   "source": [
    "sns.boxplot(x=\"time\",y=\"tip\", data=tips)"
   ]
  },
  {
   "cell_type": "code",
   "execution_count": null,
   "metadata": {},
   "outputs": [],
   "source": [
    "sns.set_style(\"whitegrid\")\n",
    "g = sns.boxenplot(x=\"time\",y=\"tip\", data=tips)\n",
    "plt.title(\"Tips by meal time\")\n",
    "plt.show(g)"
   ]
  },
  {
   "cell_type": "code",
   "execution_count": null,
   "metadata": {},
   "outputs": [],
   "source": [
    "## scatterplot\n",
    "g = sns.scatterplot(x=\"tip\", y=\"total_bill\", data=tips)\n",
    "g.set(xlim=(0,10),ylim=(0,100))\n",
    "plt.title(\"title\")\n",
    "plt.show(g)"
   ]
  },
  {
   "cell_type": "code",
   "execution_count": null,
   "metadata": {},
   "outputs": [],
   "source": [
    "### The `factorplot` function has been renamed to `catplot`\n",
    "sns.catplot(x=\"tip\", y=\"total_bill\", hue=\"day\",  data=tips) "
   ]
  },
  {
   "cell_type": "code",
   "execution_count": null,
   "metadata": {},
   "outputs": [],
   "source": [
    "### Regression lines by day of week\n",
    "sns.lmplot(x=\"tip\", y=\"total_bill\", hue=\"day\",  data=tips) "
   ]
  },
  {
   "cell_type": "markdown",
   "metadata": {},
   "source": [
    "## pandas\n",
    " \n",
    "Pandas is a library specialized in data manipulation, transformacion and saving data.\n",
    " \n",
    "It is the equivalent to 'dplyr' in R.\n",
    " \n",
    "One of the main functions of pandas are the dataframes. Dataframes are tables on which the columns are the variables and the rows are the observations (as in R). The columns can contain any data type. All the columns must have the same numer of rows.\n",
    " \n",
    "We can create datasets by passing a dictionary to the dataframe function:"
   ]
  },
  {
   "cell_type": "code",
   "execution_count": null,
   "metadata": {},
   "outputs": [],
   "source": [
    "### First we have to import the pandas and numpy libraries to the environment\n",
    "import pandas as pd\n",
    "import numpy as np"
   ]
  },
  {
   "cell_type": "code",
   "execution_count": null,
   "metadata": {},
   "outputs": [],
   "source": [
    "df = pd.DataFrame({'Var1':[1,2,3,4,5,6,7,8,9,0],\n",
    "                   'Var2':['A','B','C','D','E','a','b','c','d','e'],\n",
    "                   'Var3':[True,False,False,True,False,True,False,True,False,False]})\n",
    "\n",
    "df"
   ]
  },
  {
   "cell_type": "code",
   "execution_count": null,
   "metadata": {},
   "outputs": [],
   "source": [
    "df.head()"
   ]
  },
  {
   "cell_type": "code",
   "execution_count": null,
   "metadata": {},
   "outputs": [],
   "source": [
    "df.head(2)"
   ]
  },
  {
   "cell_type": "code",
   "execution_count": null,
   "metadata": {},
   "outputs": [],
   "source": [
    "df.tail()"
   ]
  },
  {
   "cell_type": "code",
   "execution_count": null,
   "metadata": {},
   "outputs": [],
   "source": [
    "df.dtypes"
   ]
  },
  {
   "cell_type": "code",
   "execution_count": null,
   "metadata": {},
   "outputs": [],
   "source": [
    "df.describe()"
   ]
  },
  {
   "cell_type": "code",
   "execution_count": null,
   "metadata": {},
   "outputs": [],
   "source": [
    "df.columns"
   ]
  },
  {
   "cell_type": "code",
   "execution_count": null,
   "metadata": {},
   "outputs": [],
   "source": [
    "df.values"
   ]
  },
  {
   "cell_type": "code",
   "execution_count": null,
   "metadata": {},
   "outputs": [],
   "source": [
    "df.sort_values(ascending=False,by=['Var2','Var1'])"
   ]
  },
  {
   "cell_type": "code",
   "execution_count": null,
   "metadata": {},
   "outputs": [],
   "source": [
    "## selectinh a column from the dataframe\n",
    "df['Var3']"
   ]
  },
  {
   "cell_type": "code",
   "execution_count": null,
   "metadata": {},
   "outputs": [],
   "source": [
    "df.Var3"
   ]
  },
  {
   "cell_type": "code",
   "execution_count": null,
   "metadata": {},
   "outputs": [],
   "source": [
    "## selecting rows\n",
    "df[1:4]"
   ]
  },
  {
   "cell_type": "code",
   "execution_count": null,
   "metadata": {},
   "outputs": [],
   "source": [
    "df[0:3]"
   ]
  },
  {
   "cell_type": "code",
   "execution_count": null,
   "metadata": {},
   "outputs": [],
   "source": [
    "## to select specific rows and specific columns we use the function 'loc'\n",
    "## In R we did:  df[3:5,c(\"Var2\",\"Var3\")]\n",
    "## in Python we do this as follows:\n",
    "df.loc[2:4,['Var2','Var3']]"
   ]
  },
  {
   "cell_type": "code",
   "execution_count": null,
   "metadata": {},
   "outputs": [],
   "source": [
    "## iloc is used to access rows\n",
    "df.iloc[2:4]"
   ]
  },
  {
   "cell_type": "code",
   "execution_count": null,
   "metadata": {},
   "outputs": [],
   "source": [
    "# to retrieve the content of a specific cell we use the function 'at'\n",
    "df.at[4,\"Var2\"]"
   ]
  },
  {
   "cell_type": "code",
   "execution_count": null,
   "metadata": {},
   "outputs": [],
   "source": [
    "## An alternative way of obtaining a cell are:\n",
    "a = df.loc[4,\"Var2\"]\n",
    "a"
   ]
  },
  {
   "cell_type": "markdown",
   "metadata": {},
   "source": [
    "The functions loc and iloc are the equivalent of the function 'reduce' that was in the base python 2.7. In Python 3 the 'reduce' fuction was moved from the base to the 'functools' library."
   ]
  },
  {
   "cell_type": "code",
   "execution_count": null,
   "metadata": {},
   "outputs": [],
   "source": [
    "## We can get a subset of the dataframe:\n",
    "\n",
    "df[df.Var1>6]"
   ]
  },
  {
   "cell_type": "code",
   "execution_count": null,
   "metadata": {},
   "outputs": [],
   "source": [
    "df[df.Var2>'a']"
   ]
  },
  {
   "cell_type": "code",
   "execution_count": null,
   "metadata": {},
   "outputs": [],
   "source": [
    "df2 = df[df.Var3==True]\n",
    "df2"
   ]
  },
  {
   "cell_type": "code",
   "execution_count": null,
   "metadata": {},
   "outputs": [],
   "source": [
    "df2 = df.copy()\n",
    "df2.Var3[df.Var3==0] = None\n",
    "df2"
   ]
  },
  {
   "cell_type": "code",
   "execution_count": null,
   "metadata": {},
   "outputs": [],
   "source": [
    "df2.dropna()"
   ]
  },
  {
   "cell_type": "code",
   "execution_count": null,
   "metadata": {},
   "outputs": [],
   "source": [
    "df2"
   ]
  },
  {
   "cell_type": "code",
   "execution_count": null,
   "metadata": {},
   "outputs": [],
   "source": [
    "df2 = df.copy()\n",
    "df2.Var3[df.Var3==0] = None\n",
    "df2"
   ]
  },
  {
   "cell_type": "code",
   "execution_count": null,
   "metadata": {},
   "outputs": [],
   "source": [
    "df2.fillna(value=0)"
   ]
  },
  {
   "cell_type": "code",
   "execution_count": null,
   "metadata": {},
   "outputs": [],
   "source": [
    "df.mean()"
   ]
  },
  {
   "cell_type": "code",
   "execution_count": null,
   "metadata": {},
   "outputs": [],
   "source": [
    "df.median()"
   ]
  },
  {
   "cell_type": "code",
   "execution_count": null,
   "metadata": {},
   "outputs": [],
   "source": [
    "df.sum()"
   ]
  },
  {
   "cell_type": "code",
   "execution_count": null,
   "metadata": {},
   "outputs": [],
   "source": [
    "### Pandas has also functions for import data...\n",
    "\n",
    "df2 = pd.read_csv(\"mytest.tab\")\n"
   ]
  },
  {
   "cell_type": "code",
   "execution_count": null,
   "metadata": {},
   "outputs": [],
   "source": [
    "pd.__version__"
   ]
  },
  {
   "cell_type": "markdown",
   "metadata": {},
   "source": [
    "## Scikit-Learn\n",
    " \n",
    "Scikit-Learn is the most popular library for machine learning in Python. It includes functions for read, write and manipulate data, as lots of optimized machine learning algorithms.\n",
    " i\n",
    "The name derives from the combination <b>SCI</b>py tool<b>KIT</b> for machine <b>LEARN</b>ing. The library expands the capabilities of numpy, scipy, and pandas.\n",
    " \n"
   ]
  },
  {
   "cell_type": "markdown",
   "metadata": {},
   "source": [
    "# Homework\n",
    " \n",
    "1. Create a module called <i><b>DSCourse</b></i> using object oriented programming. The module must receive a pandas dataframe and output a summary for each of the numeric columns of the dataframe. The summary must be called using a 'summary' function that returns: \n",
    " \n",
    "    + the minimum value\n",
    "    + the mean value\n",
    "    + the median value\n",
    "    + the maximum value\n",
    " \n",
    "\n",
    "2. Create a jupyter notebook that call the DSCourse module and the summary function.\n",
    " \n",
    "3. Use the <i>mtcars.csv</i> dataset (found in the data <a href=\"https://drive.google.com/file/d/1AJseQkmEO2YbCnq3hTfwplfAilUS39CN/view?usp=sharing\">directory of the drive</a>) and apply to it your summary function.\n",
    "\n",
    "  \n",
    "You can get some hints for this homework from the <a href=\"https://drive.google.com/file/d/1uFFYUvqL8aCl7MKjMpopviynXJJV5Isf/view?usp=sharing\"> Python cheat sheets </a>"
   ]
  },
  {
   "cell_type": "markdown",
   "metadata": {},
   "source": [
    "# Solution of the class exercise"
   ]
  },
  {
   "cell_type": "code",
   "execution_count": null,
   "metadata": {},
   "outputs": [],
   "source": [
    "def convert2sec(t,window):\n",
    "    if (isinstance(t,int)):\n",
    "        if (window.lower()[0] == 'd'):\n",
    "            res = (t * 24 * 3600)\n",
    "        elif (window.lower()[0] == 'h'):\n",
    "            res = (t * 3600)\n",
    "        elif (window.lower()[0] == 'm'):\n",
    "            res = (t * 60)\n",
    "        else: \n",
    "            print(\"Please enter one of: 'days','hours', or 'minutes'.\")\n",
    "        return \"{} {} = {} seconds\".format(t, window, res)\n",
    "    else:\n",
    "        print(\"\"\"I'm not sure what do you mean with {} {}\n",
    "Please enter first a number and then one of: 'days','hours', or 'minutes'.\"\"\".format(t,window))"
   ]
  },
  {
   "cell_type": "code",
   "execution_count": null,
   "metadata": {},
   "outputs": [],
   "source": [
    "#convert2sec(23,'min')\n",
    "# 23 minutes = 1380 seconds\n",
    "\n",
    "convert2sec(23,'min')"
   ]
  },
  {
   "cell_type": "code",
   "execution_count": null,
   "metadata": {},
   "outputs": [],
   "source": [
    "convert2sec(4,'days')"
   ]
  },
  {
   "cell_type": "code",
   "execution_count": null,
   "metadata": {},
   "outputs": [],
   "source": [
    "convert2sec('hours',3)"
   ]
  },
  {
   "cell_type": "code",
   "execution_count": null,
   "metadata": {},
   "outputs": [],
   "source": []
  }
 ],
 "metadata": {
  "kernelspec": {
   "display_name": "Python 3 (ipykernel)",
   "language": "python",
   "name": "python3"
  },
  "language_info": {
   "codemirror_mode": {
    "name": "ipython",
    "version": 3
   },
   "file_extension": ".py",
   "mimetype": "text/x-python",
   "name": "python",
   "nbconvert_exporter": "python",
   "pygments_lexer": "ipython3",
   "version": "3.9.12"
  }
 },
 "nbformat": 4,
 "nbformat_minor": 2
}
